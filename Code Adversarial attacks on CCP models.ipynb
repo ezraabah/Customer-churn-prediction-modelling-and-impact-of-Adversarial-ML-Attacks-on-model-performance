{
 "cells": [
  {
   "cell_type": "markdown",
   "id": "3fbeb1e9",
   "metadata": {},
   "source": [
    "# Impact of Adversarial Attacks on Customer Churn Prediction Models"
   ]
  },
  {
   "cell_type": "code",
   "execution_count": 1,
   "id": "a2d64d49",
   "metadata": {},
   "outputs": [
    {
     "name": "stdout",
     "output_type": "stream",
     "text": [
      "Populating the interactive namespace from numpy and matplotlib\n"
     ]
    }
   ],
   "source": [
    "#Import needed libraries\n",
    "import numpy as np\n",
    "import pandas as pd\n",
    "np.random.seed(5) # for reproducibility\n",
    "from pandas import read_csv\n",
    "from numpy import array\n",
    "from numpy import argmax\n",
    "from collections import Counter\n",
    "\n",
    "#Libraries for preprocessing\n",
    "from sklearn.preprocessing import MinMaxScaler\n",
    "from sklearn.preprocessing import LabelEncoder\n",
    "from sklearn.preprocessing import OneHotEncoder\n",
    "\n",
    "#Libraries for feature selection\n",
    "from sklearn.feature_selection import SelectKBest\n",
    "from sklearn.feature_selection import f_classif, chi2\n",
    "from sklearn.feature_selection import mutual_info_classif\n",
    "\n",
    "#Libraries for modelling\n",
    "from sklearn.model_selection import train_test_split\n",
    "from sklearn.svm import SVC\n",
    "from sklearn.linear_model import LogisticRegression \n",
    "import tensorflow as tf\n",
    "import keras\n",
    "from keras.models import Sequential\n",
    "from keras import layers\n",
    "from keras.layers import Dense, Conv2D, Flatten\n",
    "from keras.layers import Dense, Dropout, Activation\n",
    "from art.estimators.classification import SklearnClassifier,KerasClassifier\n",
    "\n",
    "# Libraries for metrics\n",
    "from sklearn import metrics\n",
    "from sklearn.metrics import classification_report \n",
    "from sklearn.metrics import confusion_matrix\n",
    "from sklearn.metrics import precision_score, accuracy_score, f1_score, recall_score\n",
    "\n",
    "# Libraries for attacks\n",
    "from art.attacks.evasion import SaliencyMapMethod\n",
    "from art.attacks.evasion import FastGradientMethod\n",
    "from art.attacks.evasion import DeepFool\n",
    "from art.estimators.classification import SklearnClassifier\n",
    "\n",
    "# Libraries for visualisation\n",
    "### pip install scikit-plot   ---> remove hash and run to install if uninstalled\n",
    "import scikitplot as skplt\n",
    "from matplotlib import pyplot\n",
    "import seaborn as sns\n",
    "import matplotlib.pyplot as plt\n",
    "%pylab inline\n",
    "\n",
    "\n",
    "\n",
    "import warnings\n",
    "warnings.filterwarnings(\"ignore\")\n",
    "\n",
    "tf.compat.v1.disable_eager_execution()\n",
    "tf.get_logger().setLevel('ERROR')"
   ]
  },
  {
   "cell_type": "markdown",
   "id": "12e26f47",
   "metadata": {},
   "source": [
    "## 1.0 Dataset loading and exploration"
   ]
  },
  {
   "cell_type": "code",
   "execution_count": 2,
   "id": "95a1e31e",
   "metadata": {},
   "outputs": [
    {
     "name": "stdout",
     "output_type": "stream",
     "text": [
      "Dataset: (7043, 21)\n",
      "Columns: Index(['customerID', 'gender', 'SeniorCitizen', 'Partner', 'Dependents',\n",
      "       'tenure', 'PhoneService', 'MultipleLines', 'InternetService',\n",
      "       'OnlineSecurity', 'OnlineBackup', 'DeviceProtection', 'TechSupport',\n",
      "       'StreamingTV', 'StreamingMovies', 'Contract', 'PaperlessBilling',\n",
      "       'PaymentMethod', 'MonthlyCharges', 'TotalCharges', 'Churn'],\n",
      "      dtype='object')\n"
     ]
    },
    {
     "data": {
      "text/html": [
       "<div>\n",
       "<style scoped>\n",
       "    .dataframe tbody tr th:only-of-type {\n",
       "        vertical-align: middle;\n",
       "    }\n",
       "\n",
       "    .dataframe tbody tr th {\n",
       "        vertical-align: top;\n",
       "    }\n",
       "\n",
       "    .dataframe thead th {\n",
       "        text-align: right;\n",
       "    }\n",
       "</style>\n",
       "<table border=\"1\" class=\"dataframe\">\n",
       "  <thead>\n",
       "    <tr style=\"text-align: right;\">\n",
       "      <th></th>\n",
       "      <th>customerID</th>\n",
       "      <th>gender</th>\n",
       "      <th>SeniorCitizen</th>\n",
       "      <th>Partner</th>\n",
       "      <th>Dependents</th>\n",
       "      <th>tenure</th>\n",
       "      <th>PhoneService</th>\n",
       "      <th>MultipleLines</th>\n",
       "      <th>InternetService</th>\n",
       "      <th>OnlineSecurity</th>\n",
       "      <th>...</th>\n",
       "      <th>DeviceProtection</th>\n",
       "      <th>TechSupport</th>\n",
       "      <th>StreamingTV</th>\n",
       "      <th>StreamingMovies</th>\n",
       "      <th>Contract</th>\n",
       "      <th>PaperlessBilling</th>\n",
       "      <th>PaymentMethod</th>\n",
       "      <th>MonthlyCharges</th>\n",
       "      <th>TotalCharges</th>\n",
       "      <th>Churn</th>\n",
       "    </tr>\n",
       "  </thead>\n",
       "  <tbody>\n",
       "    <tr>\n",
       "      <th>0</th>\n",
       "      <td>7590-VHVEG</td>\n",
       "      <td>Female</td>\n",
       "      <td>0</td>\n",
       "      <td>Yes</td>\n",
       "      <td>No</td>\n",
       "      <td>1</td>\n",
       "      <td>No</td>\n",
       "      <td>No phone service</td>\n",
       "      <td>DSL</td>\n",
       "      <td>No</td>\n",
       "      <td>...</td>\n",
       "      <td>No</td>\n",
       "      <td>No</td>\n",
       "      <td>No</td>\n",
       "      <td>No</td>\n",
       "      <td>Month-to-month</td>\n",
       "      <td>Yes</td>\n",
       "      <td>Electronic check</td>\n",
       "      <td>29.85</td>\n",
       "      <td>29.85</td>\n",
       "      <td>No</td>\n",
       "    </tr>\n",
       "    <tr>\n",
       "      <th>1</th>\n",
       "      <td>5575-GNVDE</td>\n",
       "      <td>Male</td>\n",
       "      <td>0</td>\n",
       "      <td>No</td>\n",
       "      <td>No</td>\n",
       "      <td>34</td>\n",
       "      <td>Yes</td>\n",
       "      <td>No</td>\n",
       "      <td>DSL</td>\n",
       "      <td>Yes</td>\n",
       "      <td>...</td>\n",
       "      <td>Yes</td>\n",
       "      <td>No</td>\n",
       "      <td>No</td>\n",
       "      <td>No</td>\n",
       "      <td>One year</td>\n",
       "      <td>No</td>\n",
       "      <td>Mailed check</td>\n",
       "      <td>56.95</td>\n",
       "      <td>1889.5</td>\n",
       "      <td>No</td>\n",
       "    </tr>\n",
       "    <tr>\n",
       "      <th>2</th>\n",
       "      <td>3668-QPYBK</td>\n",
       "      <td>Male</td>\n",
       "      <td>0</td>\n",
       "      <td>No</td>\n",
       "      <td>No</td>\n",
       "      <td>2</td>\n",
       "      <td>Yes</td>\n",
       "      <td>No</td>\n",
       "      <td>DSL</td>\n",
       "      <td>Yes</td>\n",
       "      <td>...</td>\n",
       "      <td>No</td>\n",
       "      <td>No</td>\n",
       "      <td>No</td>\n",
       "      <td>No</td>\n",
       "      <td>Month-to-month</td>\n",
       "      <td>Yes</td>\n",
       "      <td>Mailed check</td>\n",
       "      <td>53.85</td>\n",
       "      <td>108.15</td>\n",
       "      <td>Yes</td>\n",
       "    </tr>\n",
       "    <tr>\n",
       "      <th>3</th>\n",
       "      <td>7795-CFOCW</td>\n",
       "      <td>Male</td>\n",
       "      <td>0</td>\n",
       "      <td>No</td>\n",
       "      <td>No</td>\n",
       "      <td>45</td>\n",
       "      <td>No</td>\n",
       "      <td>No phone service</td>\n",
       "      <td>DSL</td>\n",
       "      <td>Yes</td>\n",
       "      <td>...</td>\n",
       "      <td>Yes</td>\n",
       "      <td>Yes</td>\n",
       "      <td>No</td>\n",
       "      <td>No</td>\n",
       "      <td>One year</td>\n",
       "      <td>No</td>\n",
       "      <td>Bank transfer (automatic)</td>\n",
       "      <td>42.30</td>\n",
       "      <td>1840.75</td>\n",
       "      <td>No</td>\n",
       "    </tr>\n",
       "    <tr>\n",
       "      <th>4</th>\n",
       "      <td>9237-HQITU</td>\n",
       "      <td>Female</td>\n",
       "      <td>0</td>\n",
       "      <td>No</td>\n",
       "      <td>No</td>\n",
       "      <td>2</td>\n",
       "      <td>Yes</td>\n",
       "      <td>No</td>\n",
       "      <td>Fiber optic</td>\n",
       "      <td>No</td>\n",
       "      <td>...</td>\n",
       "      <td>No</td>\n",
       "      <td>No</td>\n",
       "      <td>No</td>\n",
       "      <td>No</td>\n",
       "      <td>Month-to-month</td>\n",
       "      <td>Yes</td>\n",
       "      <td>Electronic check</td>\n",
       "      <td>70.70</td>\n",
       "      <td>151.65</td>\n",
       "      <td>Yes</td>\n",
       "    </tr>\n",
       "  </tbody>\n",
       "</table>\n",
       "<p>5 rows × 21 columns</p>\n",
       "</div>"
      ],
      "text/plain": [
       "   customerID  gender  SeniorCitizen Partner Dependents  tenure PhoneService  \\\n",
       "0  7590-VHVEG  Female              0     Yes         No       1           No   \n",
       "1  5575-GNVDE    Male              0      No         No      34          Yes   \n",
       "2  3668-QPYBK    Male              0      No         No       2          Yes   \n",
       "3  7795-CFOCW    Male              0      No         No      45           No   \n",
       "4  9237-HQITU  Female              0      No         No       2          Yes   \n",
       "\n",
       "      MultipleLines InternetService OnlineSecurity  ... DeviceProtection  \\\n",
       "0  No phone service             DSL             No  ...               No   \n",
       "1                No             DSL            Yes  ...              Yes   \n",
       "2                No             DSL            Yes  ...               No   \n",
       "3  No phone service             DSL            Yes  ...              Yes   \n",
       "4                No     Fiber optic             No  ...               No   \n",
       "\n",
       "  TechSupport StreamingTV StreamingMovies        Contract PaperlessBilling  \\\n",
       "0          No          No              No  Month-to-month              Yes   \n",
       "1          No          No              No        One year               No   \n",
       "2          No          No              No  Month-to-month              Yes   \n",
       "3         Yes          No              No        One year               No   \n",
       "4          No          No              No  Month-to-month              Yes   \n",
       "\n",
       "               PaymentMethod MonthlyCharges  TotalCharges Churn  \n",
       "0           Electronic check          29.85         29.85    No  \n",
       "1               Mailed check          56.95        1889.5    No  \n",
       "2               Mailed check          53.85        108.15   Yes  \n",
       "3  Bank transfer (automatic)          42.30       1840.75    No  \n",
       "4           Electronic check          70.70        151.65   Yes  \n",
       "\n",
       "[5 rows x 21 columns]"
      ]
     },
     "execution_count": 2,
     "metadata": {},
     "output_type": "execute_result"
    }
   ],
   "source": [
    "data=pd.read_csv('Customer_Churn.csv')\n",
    "print(\"Dataset: {}\".format(data.shape))\n",
    "print(\"Columns: {}\".format(data.columns))\n",
    "data.head(5)"
   ]
  },
  {
   "cell_type": "code",
   "execution_count": 3,
   "id": "acad3f46",
   "metadata": {},
   "outputs": [
    {
     "data": {
      "text/plain": [
       "customerID          0\n",
       "gender              0\n",
       "SeniorCitizen       0\n",
       "Partner             0\n",
       "Dependents          0\n",
       "tenure              0\n",
       "PhoneService        0\n",
       "MultipleLines       0\n",
       "InternetService     0\n",
       "OnlineSecurity      0\n",
       "OnlineBackup        0\n",
       "DeviceProtection    0\n",
       "TechSupport         0\n",
       "StreamingTV         0\n",
       "StreamingMovies     0\n",
       "Contract            0\n",
       "PaperlessBilling    0\n",
       "PaymentMethod       0\n",
       "MonthlyCharges      0\n",
       "TotalCharges        0\n",
       "Churn               0\n",
       "dtype: int64"
      ]
     },
     "execution_count": 3,
     "metadata": {},
     "output_type": "execute_result"
    }
   ],
   "source": [
    "# Check missing values\n",
    "data.isnull().sum()"
   ]
  },
  {
   "cell_type": "code",
   "execution_count": 4,
   "id": "ef58dd27",
   "metadata": {},
   "outputs": [],
   "source": [
    "data.drop(['customerID'], axis=1, inplace=True)"
   ]
  },
  {
   "cell_type": "code",
   "execution_count": 5,
   "id": "aee80bd3",
   "metadata": {},
   "outputs": [],
   "source": [
    "columns_to_convert = ['Partner', \n",
    "                      'Dependents', \n",
    "                      'PhoneService', \n",
    "                      'PaperlessBilling', \n",
    "                      'Churn']\n",
    "\n",
    "for item in columns_to_convert:\n",
    "    data[item].replace(to_replace='Yes', value=1, inplace=True)\n",
    "    data[item].replace(to_replace='No',  value=0, inplace=True)\n",
    "data.head()\n",
    "\n",
    "data['gender'].replace(to_replace='Female', value=1, inplace=True)\n",
    "data['gender'].replace(to_replace='Male', value=1, inplace=True)"
   ]
  },
  {
   "cell_type": "code",
   "execution_count": 6,
   "id": "c98da3bb",
   "metadata": {},
   "outputs": [
    {
     "data": {
      "text/html": [
       "<div>\n",
       "<style scoped>\n",
       "    .dataframe tbody tr th:only-of-type {\n",
       "        vertical-align: middle;\n",
       "    }\n",
       "\n",
       "    .dataframe tbody tr th {\n",
       "        vertical-align: top;\n",
       "    }\n",
       "\n",
       "    .dataframe thead th {\n",
       "        text-align: right;\n",
       "    }\n",
       "</style>\n",
       "<table border=\"1\" class=\"dataframe\">\n",
       "  <thead>\n",
       "    <tr style=\"text-align: right;\">\n",
       "      <th></th>\n",
       "      <th>gender</th>\n",
       "      <th>SeniorCitizen</th>\n",
       "      <th>Partner</th>\n",
       "      <th>Dependents</th>\n",
       "      <th>tenure</th>\n",
       "      <th>PhoneService</th>\n",
       "      <th>PaperlessBilling</th>\n",
       "      <th>MonthlyCharges</th>\n",
       "      <th>TotalCharges</th>\n",
       "      <th>Churn</th>\n",
       "      <th>...</th>\n",
       "      <th>StreamingMovies_No</th>\n",
       "      <th>StreamingMovies_No internet service</th>\n",
       "      <th>StreamingMovies_Yes</th>\n",
       "      <th>Contract_Month-to-month</th>\n",
       "      <th>Contract_One year</th>\n",
       "      <th>Contract_Two year</th>\n",
       "      <th>PaymentMethod_Bank transfer (automatic)</th>\n",
       "      <th>PaymentMethod_Credit card (automatic)</th>\n",
       "      <th>PaymentMethod_Electronic check</th>\n",
       "      <th>PaymentMethod_Mailed check</th>\n",
       "    </tr>\n",
       "  </thead>\n",
       "  <tbody>\n",
       "    <tr>\n",
       "      <th>0</th>\n",
       "      <td>1</td>\n",
       "      <td>0</td>\n",
       "      <td>1</td>\n",
       "      <td>0</td>\n",
       "      <td>1</td>\n",
       "      <td>0</td>\n",
       "      <td>1</td>\n",
       "      <td>29.85</td>\n",
       "      <td>29.85</td>\n",
       "      <td>0</td>\n",
       "      <td>...</td>\n",
       "      <td>1</td>\n",
       "      <td>0</td>\n",
       "      <td>0</td>\n",
       "      <td>1</td>\n",
       "      <td>0</td>\n",
       "      <td>0</td>\n",
       "      <td>0</td>\n",
       "      <td>0</td>\n",
       "      <td>1</td>\n",
       "      <td>0</td>\n",
       "    </tr>\n",
       "    <tr>\n",
       "      <th>1</th>\n",
       "      <td>1</td>\n",
       "      <td>0</td>\n",
       "      <td>0</td>\n",
       "      <td>0</td>\n",
       "      <td>34</td>\n",
       "      <td>1</td>\n",
       "      <td>0</td>\n",
       "      <td>56.95</td>\n",
       "      <td>1889.50</td>\n",
       "      <td>0</td>\n",
       "      <td>...</td>\n",
       "      <td>1</td>\n",
       "      <td>0</td>\n",
       "      <td>0</td>\n",
       "      <td>0</td>\n",
       "      <td>1</td>\n",
       "      <td>0</td>\n",
       "      <td>0</td>\n",
       "      <td>0</td>\n",
       "      <td>0</td>\n",
       "      <td>1</td>\n",
       "    </tr>\n",
       "    <tr>\n",
       "      <th>2</th>\n",
       "      <td>1</td>\n",
       "      <td>0</td>\n",
       "      <td>0</td>\n",
       "      <td>0</td>\n",
       "      <td>2</td>\n",
       "      <td>1</td>\n",
       "      <td>1</td>\n",
       "      <td>53.85</td>\n",
       "      <td>108.15</td>\n",
       "      <td>1</td>\n",
       "      <td>...</td>\n",
       "      <td>1</td>\n",
       "      <td>0</td>\n",
       "      <td>0</td>\n",
       "      <td>1</td>\n",
       "      <td>0</td>\n",
       "      <td>0</td>\n",
       "      <td>0</td>\n",
       "      <td>0</td>\n",
       "      <td>0</td>\n",
       "      <td>1</td>\n",
       "    </tr>\n",
       "    <tr>\n",
       "      <th>3</th>\n",
       "      <td>1</td>\n",
       "      <td>0</td>\n",
       "      <td>0</td>\n",
       "      <td>0</td>\n",
       "      <td>45</td>\n",
       "      <td>0</td>\n",
       "      <td>0</td>\n",
       "      <td>42.30</td>\n",
       "      <td>1840.75</td>\n",
       "      <td>0</td>\n",
       "      <td>...</td>\n",
       "      <td>1</td>\n",
       "      <td>0</td>\n",
       "      <td>0</td>\n",
       "      <td>0</td>\n",
       "      <td>1</td>\n",
       "      <td>0</td>\n",
       "      <td>1</td>\n",
       "      <td>0</td>\n",
       "      <td>0</td>\n",
       "      <td>0</td>\n",
       "    </tr>\n",
       "    <tr>\n",
       "      <th>4</th>\n",
       "      <td>1</td>\n",
       "      <td>0</td>\n",
       "      <td>0</td>\n",
       "      <td>0</td>\n",
       "      <td>2</td>\n",
       "      <td>1</td>\n",
       "      <td>1</td>\n",
       "      <td>70.70</td>\n",
       "      <td>151.65</td>\n",
       "      <td>1</td>\n",
       "      <td>...</td>\n",
       "      <td>1</td>\n",
       "      <td>0</td>\n",
       "      <td>0</td>\n",
       "      <td>1</td>\n",
       "      <td>0</td>\n",
       "      <td>0</td>\n",
       "      <td>0</td>\n",
       "      <td>0</td>\n",
       "      <td>1</td>\n",
       "      <td>0</td>\n",
       "    </tr>\n",
       "  </tbody>\n",
       "</table>\n",
       "<p>5 rows × 41 columns</p>\n",
       "</div>"
      ],
      "text/plain": [
       "   gender  SeniorCitizen  Partner  Dependents  tenure  PhoneService  \\\n",
       "0       1              0        1           0       1             0   \n",
       "1       1              0        0           0      34             1   \n",
       "2       1              0        0           0       2             1   \n",
       "3       1              0        0           0      45             0   \n",
       "4       1              0        0           0       2             1   \n",
       "\n",
       "   PaperlessBilling  MonthlyCharges  TotalCharges  Churn  ...  \\\n",
       "0                 1           29.85         29.85      0  ...   \n",
       "1                 0           56.95       1889.50      0  ...   \n",
       "2                 1           53.85        108.15      1  ...   \n",
       "3                 0           42.30       1840.75      0  ...   \n",
       "4                 1           70.70        151.65      1  ...   \n",
       "\n",
       "   StreamingMovies_No  StreamingMovies_No internet service  \\\n",
       "0                   1                                    0   \n",
       "1                   1                                    0   \n",
       "2                   1                                    0   \n",
       "3                   1                                    0   \n",
       "4                   1                                    0   \n",
       "\n",
       "   StreamingMovies_Yes  Contract_Month-to-month  Contract_One year  \\\n",
       "0                    0                        1                  0   \n",
       "1                    0                        0                  1   \n",
       "2                    0                        1                  0   \n",
       "3                    0                        0                  1   \n",
       "4                    0                        1                  0   \n",
       "\n",
       "   Contract_Two year  PaymentMethod_Bank transfer (automatic)  \\\n",
       "0                  0                                        0   \n",
       "1                  0                                        0   \n",
       "2                  0                                        0   \n",
       "3                  0                                        1   \n",
       "4                  0                                        0   \n",
       "\n",
       "   PaymentMethod_Credit card (automatic)  PaymentMethod_Electronic check  \\\n",
       "0                                      0                               1   \n",
       "1                                      0                               0   \n",
       "2                                      0                               0   \n",
       "3                                      0                               0   \n",
       "4                                      0                               1   \n",
       "\n",
       "   PaymentMethod_Mailed check  \n",
       "0                           0  \n",
       "1                           1  \n",
       "2                           1  \n",
       "3                           0  \n",
       "4                           0  \n",
       "\n",
       "[5 rows x 41 columns]"
      ]
     },
     "execution_count": 6,
     "metadata": {},
     "output_type": "execute_result"
    }
   ],
   "source": [
    "data['TotalCharges'] = data['TotalCharges'].replace(r'\\s+', np.nan, regex=True)\n",
    "data['TotalCharges'] = pd.to_numeric(data['TotalCharges'])\n",
    "\n",
    "df = pd.get_dummies(data)\n",
    "df.fillna(value=0, inplace=True)\n",
    "df.head()"
   ]
  },
  {
   "cell_type": "code",
   "execution_count": 7,
   "id": "e85dd5cf",
   "metadata": {},
   "outputs": [],
   "source": [
    "target=df['Churn']\n",
    "features= df.drop(columns=['Churn'])"
   ]
  },
  {
   "cell_type": "code",
   "execution_count": 8,
   "id": "880662e8",
   "metadata": {},
   "outputs": [
    {
     "data": {
      "text/plain": [
       "1.0"
      ]
     },
     "execution_count": 8,
     "metadata": {},
     "output_type": "execute_result"
    }
   ],
   "source": [
    "from sklearn.preprocessing import MinMaxScaler\n",
    "# define min max scaler\n",
    "scaler = MinMaxScaler()\n",
    "\n",
    "# transform data\n",
    "df_scaled = scaler.fit_transform(df)\n",
    "df_scaled.max()"
   ]
  },
  {
   "cell_type": "code",
   "execution_count": 9,
   "id": "2ae1e1da",
   "metadata": {},
   "outputs": [],
   "source": [
    "from imblearn.over_sampling import SMOTE"
   ]
  },
  {
   "cell_type": "code",
   "execution_count": 10,
   "id": "b3d25b14",
   "metadata": {},
   "outputs": [
    {
     "name": "stdout",
     "output_type": "stream",
     "text": [
      "Resampled dataset shape Counter({0: 5174, 1: 5174})\n"
     ]
    }
   ],
   "source": [
    "sm = SMOTE(random_state=42)\n",
    "X_res, y_res = sm.fit_resample(features, target)\n",
    "print('Resampled dataset shape {}'.format(Counter(y_res)))"
   ]
  },
  {
   "cell_type": "code",
   "execution_count": 11,
   "id": "d83668c2",
   "metadata": {},
   "outputs": [],
   "source": [
    "def one_hot_encode(data):\n",
    "    label_encoder = LabelEncoder()\n",
    "    target_int = label_encoder.fit_transform(data)\n",
    "    onehot_encoder = OneHotEncoder(sparse=False)\n",
    "    target_int = target_int.reshape(len(target_int), 1)\n",
    "    data_onehot = onehot_encoder.fit_transform(target_int)\n",
    "    return data_onehot"
   ]
  },
  {
   "cell_type": "code",
   "execution_count": 12,
   "id": "1c422cae",
   "metadata": {},
   "outputs": [
    {
     "name": "stdout",
     "output_type": "stream",
     "text": [
      "Train set: (8278, 40) (8278,)\n",
      "Test set: (2070, 40) (2070,)\n"
     ]
    }
   ],
   "source": [
    "from sklearn.model_selection import train_test_split\n",
    "X_train, X_test, y_train, y_test = train_test_split( X_res, y_res,test_size=0.2, random_state=9)\n",
    "print ('Train set:', X_train.shape,  y_train.shape)\n",
    "print ('Test set:', X_test.shape,  y_test.shape)"
   ]
  },
  {
   "cell_type": "code",
   "execution_count": 13,
   "id": "d81b060b",
   "metadata": {},
   "outputs": [],
   "source": [
    "y_train_onehot= one_hot_encode(y_train)\n",
    "y_test_onehot= one_hot_encode(y_test)"
   ]
  },
  {
   "cell_type": "markdown",
   "id": "1884e0f9",
   "metadata": {},
   "source": [
    "# Modelling"
   ]
  },
  {
   "cell_type": "code",
   "execution_count": 14,
   "id": "e94f168b",
   "metadata": {},
   "outputs": [],
   "source": [
    "target_names= ['non-churn', 'churn' ]"
   ]
  },
  {
   "cell_type": "markdown",
   "id": "03c743ce",
   "metadata": {},
   "source": [
    "### LOGISTIC REGRESSION"
   ]
  },
  {
   "cell_type": "code",
   "execution_count": 15,
   "id": "4cbf64bc",
   "metadata": {},
   "outputs": [
    {
     "name": "stdout",
     "output_type": "stream",
     "text": [
      "              precision    recall  f1-score   support\n",
      "\n",
      "   non-churn       0.86      0.84      0.85      1052\n",
      "       churn       0.84      0.86      0.85      1018\n",
      "\n",
      "    accuracy                           0.85      2070\n",
      "   macro avg       0.85      0.85      0.85      2070\n",
      "weighted avg       0.85      0.85      0.85      2070\n",
      "\n"
     ]
    }
   ],
   "source": [
    "### Logistic regression Model\n",
    "lr_model_base=LogisticRegression(max_iter=10000).fit(X_train, y_train)\n",
    "ypred = lr_model_base.predict(X_test)\n",
    "yprob=lr_model_base.predict_proba(X_test)\n",
    "print(classification_report(y_test, ypred, target_names=target_names))"
   ]
  },
  {
   "cell_type": "code",
   "execution_count": 16,
   "id": "4bbc5edf",
   "metadata": {},
   "outputs": [],
   "source": [
    "sns.color_palette(\"rocket\", as_cmap=True)\n",
    "sns.set(font_scale=1.4)\n",
    "plt.style.use('seaborn-darkgrid')"
   ]
  },
  {
   "cell_type": "code",
   "execution_count": 17,
   "id": "43c2785e",
   "metadata": {},
   "outputs": [
    {
     "name": "stdout",
     "output_type": "stream",
     "text": [
      "[[880 172]\n",
      " [146 872]]\n"
     ]
    },
    {
     "data": {
      "text/plain": [
       "Text(50.5, 0.5, 'True Class')"
      ]
     },
     "execution_count": 17,
     "metadata": {},
     "output_type": "execute_result"
    },
    {
     "data": {
      "image/png": "[encoded data removed]",
      "text/plain": [
       "<Figure size 576x432 with 2 Axes>"
      ]
     },
     "metadata": {},
     "output_type": "display_data"
    }
   ],
   "source": [
    "cf_matrix=confusion_matrix(y_test, ypred)\n",
    "print(cf_matrix)\n",
    "\n",
    "plt.figure(figsize = (8, 6))\n",
    "sns.heatmap(cf_matrix, annot=True, cmap='rocket', fmt='g', xticklabels=['churn','non-churn'], yticklabels=['churn' ,'non-churn'])\n",
    "plt.title(\"Confusion matrix heatmap\")\n",
    "plt.xlabel(\"Predicted class\", fontsize=20)\n",
    "plt.ylabel(\"True Class\", fontsize=20)"
   ]
  },
  {
   "cell_type": "code",
   "execution_count": 18,
   "id": "35169466",
   "metadata": {},
   "outputs": [
    {
     "data": {
      "image/png": "[encoded data removed]",
      "text/plain": [
       "<Figure size 612x612 with 1 Axes>"
      ]
     },
     "metadata": {},
     "output_type": "display_data"
    }
   ],
   "source": [
    "pylab.rcParams['figure.figsize'] = (8.5, 8.5)\n",
    "skplt.metrics.plot_roc(y_test,yprob,cmap=\"rocket\")\n",
    "plt.xlabel(\"Predicted class\", fontsize=20)\n",
    "plt.ylabel(\"True Class\", fontsize=20)\n",
    "plt.show() "
   ]
  },
  {
   "cell_type": "markdown",
   "id": "5d24086c",
   "metadata": {},
   "source": [
    "### SUPPORT VECTOR CLASSIFIER"
   ]
  },
  {
   "cell_type": "code",
   "execution_count": 19,
   "id": "7f2810d0",
   "metadata": {},
   "outputs": [
    {
     "name": "stdout",
     "output_type": "stream",
     "text": [
      "              precision    recall  f1-score   support\n",
      "\n",
      "   non-churn       0.83      0.70      0.76      1052\n",
      "       churn       0.73      0.85      0.79      1018\n",
      "\n",
      "    accuracy                           0.77      2070\n",
      "   macro avg       0.78      0.77      0.77      2070\n",
      "weighted avg       0.78      0.77      0.77      2070\n",
      "\n"
     ]
    }
   ],
   "source": [
    "svc_model_base=SVC(probability=True,kernel='rbf',gamma=0.001, C=1).fit(X_train, y_train)\n",
    "ypred = svc_model_base.predict(X_test)\n",
    "yprob=svc_model_base.predict_proba(X_test)\n",
    "print(classification_report(y_test, ypred, target_names=target_names))"
   ]
  },
  {
   "cell_type": "code",
   "execution_count": 20,
   "id": "402dc486",
   "metadata": {},
   "outputs": [
    {
     "data": {
      "text/plain": [
       "Text(50.5, 0.5, 'True Class')"
      ]
     },
     "execution_count": 20,
     "metadata": {},
     "output_type": "execute_result"
    },
    {
     "data": {
      "image/png": "[encoded data removed]",
      "text/plain": [
       "<Figure size 576x432 with 2 Axes>"
      ]
     },
     "metadata": {},
     "output_type": "display_data"
    }
   ],
   "source": [
    "cf_matrix=confusion_matrix(y_test, ypred)\n",
    "plt.figure(figsize = (8, 6))\n",
    "sns.heatmap(cf_matrix, annot=True, cmap='rocket', fmt='g', xticklabels=['churn','non-churn'], yticklabels=['churn' ,'non-churn'])\n",
    "plt.title(\"Confusion matrix heatmap\")\n",
    "plt.xlabel(\"Predicted class\", fontsize=20)\n",
    "plt.ylabel(\"True Class\", fontsize=20)\n"
   ]
  },
  {
   "cell_type": "code",
   "execution_count": 21,
   "id": "ecefed46",
   "metadata": {},
   "outputs": [
    {
     "data": {
      "image/png": "[encoded data removed]",
      "text/plain": [
       "<Figure size 612x612 with 1 Axes>"
      ]
     },
     "metadata": {},
     "output_type": "display_data"
    }
   ],
   "source": [
    "skplt.metrics.plot_roc(y_test,yprob, cmap=\"rocket\")\n",
    "plt.show() "
   ]
  },
  {
   "cell_type": "markdown",
   "id": "ea2d109c",
   "metadata": {},
   "source": [
    "### ANN"
   ]
  },
  {
   "cell_type": "code",
   "execution_count": 22,
   "id": "083eef97",
   "metadata": {},
   "outputs": [
    {
     "data": {
      "text/plain": [
       "<tensorflow.python.keras.callbacks.History at 0x1c47320feb0>"
      ]
     },
     "execution_count": 22,
     "metadata": {},
     "output_type": "execute_result"
    }
   ],
   "source": [
    "PYTHONHASHSEED=0\n",
    "from tensorflow import keras\n",
    "from tensorflow.keras import layers\n",
    "from tensorflow.keras.layers.experimental import RandomFourierFeatures\n",
    "import random as python_random\n",
    "\n",
    "python_random.seed(123)\n",
    "\n",
    "tf.random.set_seed(1234)\n",
    "\n",
    "ann_model_base = keras.Sequential(\n",
    "    [\n",
    "        keras.layers.Dense(100, input_shape=(X_train.shape[1],), activation=\"relu\"),\n",
    "        keras.layers.Dense(100, activation=\"relu\"),\n",
    "        keras.layers.Dense(100, activation=\"relu\",),\n",
    "        keras.layers.Dense(2, activation=\"softmax\"),\n",
    "    ]\n",
    ")\n",
    "\n",
    "ann_model_base.compile(optimizer ='adam',\n",
    "             loss='binary_crossentropy',\n",
    "             metrics=['accuracy'])\n",
    "\n",
    "ann_model_base.fit(X_train,y_train_onehot, epochs=30, verbose=False)"
   ]
  },
  {
   "cell_type": "code",
   "execution_count": 23,
   "id": "de2ae490",
   "metadata": {},
   "outputs": [
    {
     "name": "stdout",
     "output_type": "stream",
     "text": [
      "              precision    recall  f1-score   support\n",
      "\n",
      "           0       0.87      0.73      0.79      1052\n",
      "           1       0.76      0.88      0.82      1018\n",
      "\n",
      "    accuracy                           0.80      2070\n",
      "   macro avg       0.81      0.81      0.80      2070\n",
      "weighted avg       0.81      0.80      0.80      2070\n",
      "\n"
     ]
    }
   ],
   "source": [
    "\n",
    "\n",
    "yprob=ann_model_base.predict(X_test)\n",
    "ypred = np.argmax(yprob, axis=1)\n",
    "y_test = np.argmax(y_test_onehot, axis=1)\n",
    "\n",
    "print(classification_report(y_test, ypred))"
   ]
  },
  {
   "cell_type": "code",
   "execution_count": 24,
   "id": "798d71f4",
   "metadata": {},
   "outputs": [
    {
     "data": {
      "text/plain": [
       "Text(50.5, 0.5, 'True Class')"
      ]
     },
     "execution_count": 24,
     "metadata": {},
     "output_type": "execute_result"
    },
    {
     "data": {
      "image/png": "[encoded data removed]",
      "text/plain": [
       "<Figure size 576x432 with 2 Axes>"
      ]
     },
     "metadata": {},
     "output_type": "display_data"
    }
   ],
   "source": [
    "cf_matrix=confusion_matrix(y_test, ypred)\n",
    "plt.figure(figsize = (8, 6))\n",
    "sns.heatmap(cf_matrix, annot=True, cmap='rocket', fmt='g', xticklabels=['churn','non-churn'], yticklabels=['churn','non-churn'])\n",
    "plt.title(\"Confusion matrix heatmap\")\n",
    "plt.xlabel(\"Predicted class\", fontsize=15)\n",
    "plt.ylabel(\"True Class\", fontsize=15)\n"
   ]
  },
  {
   "cell_type": "code",
   "execution_count": 25,
   "id": "37bab9a4",
   "metadata": {},
   "outputs": [
    {
     "data": {
      "image/png": "[encoded data removed]",
      "text/plain": [
       "<Figure size 612x612 with 1 Axes>"
      ]
     },
     "metadata": {},
     "output_type": "display_data"
    }
   ],
   "source": [
    "skplt.metrics.plot_roc(y_test,yprob,cmap=\"rocket\")\n",
    "plt.show()"
   ]
  },
  {
   "cell_type": "markdown",
   "id": "22fac399",
   "metadata": {},
   "source": [
    "# ATTACKS"
   ]
  },
  {
   "cell_type": "markdown",
   "id": "13d55376",
   "metadata": {},
   "source": [
    "## FSGM"
   ]
  },
  {
   "cell_type": "code",
   "execution_count": 26,
   "id": "e7d4e774",
   "metadata": {},
   "outputs": [],
   "source": [
    "results=[]"
   ]
  },
  {
   "cell_type": "code",
   "execution_count": 27,
   "id": "9c15cbdd",
   "metadata": {},
   "outputs": [],
   "source": [
    "def fgsm_data(X_test,eps):\n",
    "    lr_model=SklearnClassifier(model=lr_model_base)\n",
    "    attack = FastGradientMethod(estimator=lr_model, eps=eps)\n",
    "    new_x=attack.generate(x=X_test)\n",
    "    return new_x"
   ]
  },
  {
   "cell_type": "code",
   "execution_count": 28,
   "id": "33e8d7f5",
   "metadata": {},
   "outputs": [],
   "source": [
    "def evaluate(i, model, y_test,X_test):\n",
    "    y_pred = model.predict(X_test)\n",
    "    accuracy= (accuracy_score(y_test, y_pred )*100)\n",
    "    precision= (precision_score(y_test, y_pred,pos_label=1 )*100)\n",
    "    f1score= (f1_score(y_test, y_pred,pos_label=1 )*100)\n",
    "    recall= (recall_score(y_test, y_pred,pos_label=1 )*100)\n",
    "    return {'attack':\"FSGM\",'Model':\"LR\", 'epsilon' : i  ,'accuracy': accuracy, 'precision':precision, 'f1score': f1score, 'recall': recall}"
   ]
  },
  {
   "cell_type": "code",
   "execution_count": 29,
   "id": "f58d657b",
   "metadata": {},
   "outputs": [
    {
     "data": {
      "text/html": [
       "<div>\n",
       "<style scoped>\n",
       "    .dataframe tbody tr th:only-of-type {\n",
       "        vertical-align: middle;\n",
       "    }\n",
       "\n",
       "    .dataframe tbody tr th {\n",
       "        vertical-align: top;\n",
       "    }\n",
       "\n",
       "    .dataframe thead th {\n",
       "        text-align: right;\n",
       "    }\n",
       "</style>\n",
       "<table border=\"1\" class=\"dataframe\">\n",
       "  <thead>\n",
       "    <tr style=\"text-align: right;\">\n",
       "      <th></th>\n",
       "      <th>attack</th>\n",
       "      <th>Model</th>\n",
       "      <th>epsilon</th>\n",
       "      <th>accuracy</th>\n",
       "      <th>precision</th>\n",
       "      <th>f1score</th>\n",
       "      <th>recall</th>\n",
       "    </tr>\n",
       "  </thead>\n",
       "  <tbody>\n",
       "    <tr>\n",
       "      <th>0</th>\n",
       "      <td>FSGM</td>\n",
       "      <td>LR</td>\n",
       "      <td>0.0</td>\n",
       "      <td>84.637681</td>\n",
       "      <td>83.524904</td>\n",
       "      <td>84.578080</td>\n",
       "      <td>85.658153</td>\n",
       "    </tr>\n",
       "    <tr>\n",
       "      <th>1</th>\n",
       "      <td>FSGM</td>\n",
       "      <td>LR</td>\n",
       "      <td>0.1</td>\n",
       "      <td>42.222222</td>\n",
       "      <td>42.764228</td>\n",
       "      <td>46.797153</td>\n",
       "      <td>51.669941</td>\n",
       "    </tr>\n",
       "    <tr>\n",
       "      <th>2</th>\n",
       "      <td>FSGM</td>\n",
       "      <td>LR</td>\n",
       "      <td>0.2</td>\n",
       "      <td>18.405797</td>\n",
       "      <td>19.191919</td>\n",
       "      <td>19.838633</td>\n",
       "      <td>20.530452</td>\n",
       "    </tr>\n",
       "    <tr>\n",
       "      <th>3</th>\n",
       "      <td>FSGM</td>\n",
       "      <td>LR</td>\n",
       "      <td>0.3</td>\n",
       "      <td>15.458937</td>\n",
       "      <td>14.396887</td>\n",
       "      <td>14.467253</td>\n",
       "      <td>14.538310</td>\n",
       "    </tr>\n",
       "    <tr>\n",
       "      <th>4</th>\n",
       "      <td>FSGM</td>\n",
       "      <td>LR</td>\n",
       "      <td>0.4</td>\n",
       "      <td>15.362319</td>\n",
       "      <td>14.230019</td>\n",
       "      <td>14.285714</td>\n",
       "      <td>14.341847</td>\n",
       "    </tr>\n",
       "    <tr>\n",
       "      <th>5</th>\n",
       "      <td>FSGM</td>\n",
       "      <td>LR</td>\n",
       "      <td>0.5</td>\n",
       "      <td>15.362319</td>\n",
       "      <td>14.230019</td>\n",
       "      <td>14.285714</td>\n",
       "      <td>14.341847</td>\n",
       "    </tr>\n",
       "    <tr>\n",
       "      <th>6</th>\n",
       "      <td>FSGM</td>\n",
       "      <td>LR</td>\n",
       "      <td>0.6</td>\n",
       "      <td>15.362319</td>\n",
       "      <td>14.230019</td>\n",
       "      <td>14.285714</td>\n",
       "      <td>14.341847</td>\n",
       "    </tr>\n",
       "    <tr>\n",
       "      <th>7</th>\n",
       "      <td>FSGM</td>\n",
       "      <td>LR</td>\n",
       "      <td>0.7</td>\n",
       "      <td>15.362319</td>\n",
       "      <td>14.230019</td>\n",
       "      <td>14.285714</td>\n",
       "      <td>14.341847</td>\n",
       "    </tr>\n",
       "    <tr>\n",
       "      <th>8</th>\n",
       "      <td>FSGM</td>\n",
       "      <td>LR</td>\n",
       "      <td>0.8</td>\n",
       "      <td>15.362319</td>\n",
       "      <td>14.230019</td>\n",
       "      <td>14.285714</td>\n",
       "      <td>14.341847</td>\n",
       "    </tr>\n",
       "    <tr>\n",
       "      <th>9</th>\n",
       "      <td>FSGM</td>\n",
       "      <td>LR</td>\n",
       "      <td>0.9</td>\n",
       "      <td>15.362319</td>\n",
       "      <td>14.230019</td>\n",
       "      <td>14.285714</td>\n",
       "      <td>14.341847</td>\n",
       "    </tr>\n",
       "    <tr>\n",
       "      <th>10</th>\n",
       "      <td>FSGM</td>\n",
       "      <td>LR</td>\n",
       "      <td>1.0</td>\n",
       "      <td>15.362319</td>\n",
       "      <td>14.230019</td>\n",
       "      <td>14.285714</td>\n",
       "      <td>14.341847</td>\n",
       "    </tr>\n",
       "  </tbody>\n",
       "</table>\n",
       "</div>"
      ],
      "text/plain": [
       "   attack Model  epsilon   accuracy  precision    f1score     recall\n",
       "0    FSGM    LR      0.0  84.637681  83.524904  84.578080  85.658153\n",
       "1    FSGM    LR      0.1  42.222222  42.764228  46.797153  51.669941\n",
       "2    FSGM    LR      0.2  18.405797  19.191919  19.838633  20.530452\n",
       "3    FSGM    LR      0.3  15.458937  14.396887  14.467253  14.538310\n",
       "4    FSGM    LR      0.4  15.362319  14.230019  14.285714  14.341847\n",
       "5    FSGM    LR      0.5  15.362319  14.230019  14.285714  14.341847\n",
       "6    FSGM    LR      0.6  15.362319  14.230019  14.285714  14.341847\n",
       "7    FSGM    LR      0.7  15.362319  14.230019  14.285714  14.341847\n",
       "8    FSGM    LR      0.8  15.362319  14.230019  14.285714  14.341847\n",
       "9    FSGM    LR      0.9  15.362319  14.230019  14.285714  14.341847\n",
       "10   FSGM    LR      1.0  15.362319  14.230019  14.285714  14.341847"
      ]
     },
     "execution_count": 29,
     "metadata": {},
     "output_type": "execute_result"
    }
   ],
   "source": [
    "epsilon=[0,0.1, 0.20, 0.3 ,0.4,0.5,0.6,0.7,0.8,0.9,1]\n",
    "for i in epsilon:\n",
    "    new_x=fgsm_data(X_test=X_test,eps=i)\n",
    "    lr_eval_data=evaluate(i,lr_model_base, y_test , new_x)\n",
    "    results.append(lr_eval_data)\n",
    "fgsm_res=pd.DataFrame(results)\n",
    "fgsm_res"
   ]
  },
  {
   "cell_type": "code",
   "execution_count": 30,
   "id": "ae3fc011",
   "metadata": {},
   "outputs": [],
   "source": [
    "def evaluate(i, model, y_test,X_test):\n",
    "    y_pred = model.predict(X_test)\n",
    "    accuracy= (accuracy_score(y_test, y_pred )*100)\n",
    "    precision= (precision_score(y_test, y_pred,pos_label=1 )*100)\n",
    "    f1score= (f1_score(y_test, y_pred,pos_label=1 )*100)\n",
    "    recall= (recall_score(y_test, y_pred,pos_label=1 )*100)\n",
    "    return {'attack':\"FSGM\",'Model':\"SVC\", 'epsilon' : i  ,'accuracy': accuracy, 'precision':precision, 'f1score': f1score, 'recall': recall}"
   ]
  },
  {
   "cell_type": "code",
   "execution_count": 31,
   "id": "0a6c9b9f",
   "metadata": {},
   "outputs": [
    {
     "data": {
      "text/html": [
       "<div>\n",
       "<style scoped>\n",
       "    .dataframe tbody tr th:only-of-type {\n",
       "        vertical-align: middle;\n",
       "    }\n",
       "\n",
       "    .dataframe tbody tr th {\n",
       "        vertical-align: top;\n",
       "    }\n",
       "\n",
       "    .dataframe thead th {\n",
       "        text-align: right;\n",
       "    }\n",
       "</style>\n",
       "<table border=\"1\" class=\"dataframe\">\n",
       "  <thead>\n",
       "    <tr style=\"text-align: right;\">\n",
       "      <th></th>\n",
       "      <th>attack</th>\n",
       "      <th>Model</th>\n",
       "      <th>epsilon</th>\n",
       "      <th>accuracy</th>\n",
       "      <th>precision</th>\n",
       "      <th>f1score</th>\n",
       "      <th>recall</th>\n",
       "    </tr>\n",
       "  </thead>\n",
       "  <tbody>\n",
       "    <tr>\n",
       "      <th>0</th>\n",
       "      <td>FSGM</td>\n",
       "      <td>LR</td>\n",
       "      <td>0.0</td>\n",
       "      <td>84.637681</td>\n",
       "      <td>83.524904</td>\n",
       "      <td>84.578080</td>\n",
       "      <td>85.658153</td>\n",
       "    </tr>\n",
       "    <tr>\n",
       "      <th>1</th>\n",
       "      <td>FSGM</td>\n",
       "      <td>LR</td>\n",
       "      <td>0.1</td>\n",
       "      <td>42.222222</td>\n",
       "      <td>42.764228</td>\n",
       "      <td>46.797153</td>\n",
       "      <td>51.669941</td>\n",
       "    </tr>\n",
       "    <tr>\n",
       "      <th>2</th>\n",
       "      <td>FSGM</td>\n",
       "      <td>LR</td>\n",
       "      <td>0.2</td>\n",
       "      <td>18.405797</td>\n",
       "      <td>19.191919</td>\n",
       "      <td>19.838633</td>\n",
       "      <td>20.530452</td>\n",
       "    </tr>\n",
       "    <tr>\n",
       "      <th>3</th>\n",
       "      <td>FSGM</td>\n",
       "      <td>LR</td>\n",
       "      <td>0.3</td>\n",
       "      <td>15.458937</td>\n",
       "      <td>14.396887</td>\n",
       "      <td>14.467253</td>\n",
       "      <td>14.538310</td>\n",
       "    </tr>\n",
       "    <tr>\n",
       "      <th>4</th>\n",
       "      <td>FSGM</td>\n",
       "      <td>LR</td>\n",
       "      <td>0.4</td>\n",
       "      <td>15.362319</td>\n",
       "      <td>14.230019</td>\n",
       "      <td>14.285714</td>\n",
       "      <td>14.341847</td>\n",
       "    </tr>\n",
       "    <tr>\n",
       "      <th>5</th>\n",
       "      <td>FSGM</td>\n",
       "      <td>LR</td>\n",
       "      <td>0.5</td>\n",
       "      <td>15.362319</td>\n",
       "      <td>14.230019</td>\n",
       "      <td>14.285714</td>\n",
       "      <td>14.341847</td>\n",
       "    </tr>\n",
       "    <tr>\n",
       "      <th>6</th>\n",
       "      <td>FSGM</td>\n",
       "      <td>LR</td>\n",
       "      <td>0.6</td>\n",
       "      <td>15.362319</td>\n",
       "      <td>14.230019</td>\n",
       "      <td>14.285714</td>\n",
       "      <td>14.341847</td>\n",
       "    </tr>\n",
       "    <tr>\n",
       "      <th>7</th>\n",
       "      <td>FSGM</td>\n",
       "      <td>LR</td>\n",
       "      <td>0.7</td>\n",
       "      <td>15.362319</td>\n",
       "      <td>14.230019</td>\n",
       "      <td>14.285714</td>\n",
       "      <td>14.341847</td>\n",
       "    </tr>\n",
       "    <tr>\n",
       "      <th>8</th>\n",
       "      <td>FSGM</td>\n",
       "      <td>LR</td>\n",
       "      <td>0.8</td>\n",
       "      <td>15.362319</td>\n",
       "      <td>14.230019</td>\n",
       "      <td>14.285714</td>\n",
       "      <td>14.341847</td>\n",
       "    </tr>\n",
       "    <tr>\n",
       "      <th>9</th>\n",
       "      <td>FSGM</td>\n",
       "      <td>LR</td>\n",
       "      <td>0.9</td>\n",
       "      <td>15.362319</td>\n",
       "      <td>14.230019</td>\n",
       "      <td>14.285714</td>\n",
       "      <td>14.341847</td>\n",
       "    </tr>\n",
       "    <tr>\n",
       "      <th>10</th>\n",
       "      <td>FSGM</td>\n",
       "      <td>LR</td>\n",
       "      <td>1.0</td>\n",
       "      <td>15.362319</td>\n",
       "      <td>14.230019</td>\n",
       "      <td>14.285714</td>\n",
       "      <td>14.341847</td>\n",
       "    </tr>\n",
       "    <tr>\n",
       "      <th>11</th>\n",
       "      <td>FSGM</td>\n",
       "      <td>SVC</td>\n",
       "      <td>0.0</td>\n",
       "      <td>77.246377</td>\n",
       "      <td>73.158340</td>\n",
       "      <td>78.581173</td>\n",
       "      <td>84.872299</td>\n",
       "    </tr>\n",
       "    <tr>\n",
       "      <th>12</th>\n",
       "      <td>FSGM</td>\n",
       "      <td>SVC</td>\n",
       "      <td>0.1</td>\n",
       "      <td>77.101449</td>\n",
       "      <td>72.972973</td>\n",
       "      <td>78.474114</td>\n",
       "      <td>84.872299</td>\n",
       "    </tr>\n",
       "    <tr>\n",
       "      <th>13</th>\n",
       "      <td>FSGM</td>\n",
       "      <td>SVC</td>\n",
       "      <td>0.2</td>\n",
       "      <td>77.053140</td>\n",
       "      <td>72.911392</td>\n",
       "      <td>78.438493</td>\n",
       "      <td>84.872299</td>\n",
       "    </tr>\n",
       "    <tr>\n",
       "      <th>14</th>\n",
       "      <td>FSGM</td>\n",
       "      <td>SVC</td>\n",
       "      <td>0.3</td>\n",
       "      <td>76.908213</td>\n",
       "      <td>72.804054</td>\n",
       "      <td>78.292461</td>\n",
       "      <td>84.675835</td>\n",
       "    </tr>\n",
       "    <tr>\n",
       "      <th>15</th>\n",
       "      <td>FSGM</td>\n",
       "      <td>SVC</td>\n",
       "      <td>0.4</td>\n",
       "      <td>76.618357</td>\n",
       "      <td>72.627119</td>\n",
       "      <td>77.979982</td>\n",
       "      <td>84.184676</td>\n",
       "    </tr>\n",
       "    <tr>\n",
       "      <th>16</th>\n",
       "      <td>FSGM</td>\n",
       "      <td>SVC</td>\n",
       "      <td>0.5</td>\n",
       "      <td>76.473430</td>\n",
       "      <td>72.519084</td>\n",
       "      <td>77.833409</td>\n",
       "      <td>83.988212</td>\n",
       "    </tr>\n",
       "    <tr>\n",
       "      <th>17</th>\n",
       "      <td>FSGM</td>\n",
       "      <td>SVC</td>\n",
       "      <td>0.6</td>\n",
       "      <td>76.280193</td>\n",
       "      <td>72.387426</td>\n",
       "      <td>77.630979</td>\n",
       "      <td>83.693517</td>\n",
       "    </tr>\n",
       "    <tr>\n",
       "      <th>18</th>\n",
       "      <td>FSGM</td>\n",
       "      <td>SVC</td>\n",
       "      <td>0.7</td>\n",
       "      <td>76.086957</td>\n",
       "      <td>72.179813</td>\n",
       "      <td>77.469276</td>\n",
       "      <td>83.595285</td>\n",
       "    </tr>\n",
       "    <tr>\n",
       "      <th>19</th>\n",
       "      <td>FSGM</td>\n",
       "      <td>SVC</td>\n",
       "      <td>0.8</td>\n",
       "      <td>75.893720</td>\n",
       "      <td>72.010178</td>\n",
       "      <td>77.287210</td>\n",
       "      <td>83.398821</td>\n",
       "    </tr>\n",
       "    <tr>\n",
       "      <th>20</th>\n",
       "      <td>FSGM</td>\n",
       "      <td>SVC</td>\n",
       "      <td>0.9</td>\n",
       "      <td>75.700483</td>\n",
       "      <td>71.877655</td>\n",
       "      <td>77.084282</td>\n",
       "      <td>83.104126</td>\n",
       "    </tr>\n",
       "    <tr>\n",
       "      <th>21</th>\n",
       "      <td>FSGM</td>\n",
       "      <td>SVC</td>\n",
       "      <td>1.0</td>\n",
       "      <td>75.507246</td>\n",
       "      <td>71.707732</td>\n",
       "      <td>76.902050</td>\n",
       "      <td>82.907662</td>\n",
       "    </tr>\n",
       "  </tbody>\n",
       "</table>\n",
       "</div>"
      ],
      "text/plain": [
       "   attack Model  epsilon   accuracy  precision    f1score     recall\n",
       "0    FSGM    LR      0.0  84.637681  83.524904  84.578080  85.658153\n",
       "1    FSGM    LR      0.1  42.222222  42.764228  46.797153  51.669941\n",
       "2    FSGM    LR      0.2  18.405797  19.191919  19.838633  20.530452\n",
       "3    FSGM    LR      0.3  15.458937  14.396887  14.467253  14.538310\n",
       "4    FSGM    LR      0.4  15.362319  14.230019  14.285714  14.341847\n",
       "5    FSGM    LR      0.5  15.362319  14.230019  14.285714  14.341847\n",
       "6    FSGM    LR      0.6  15.362319  14.230019  14.285714  14.341847\n",
       "7    FSGM    LR      0.7  15.362319  14.230019  14.285714  14.341847\n",
       "8    FSGM    LR      0.8  15.362319  14.230019  14.285714  14.341847\n",
       "9    FSGM    LR      0.9  15.362319  14.230019  14.285714  14.341847\n",
       "10   FSGM    LR      1.0  15.362319  14.230019  14.285714  14.341847\n",
       "11   FSGM   SVC      0.0  77.246377  73.158340  78.581173  84.872299\n",
       "12   FSGM   SVC      0.1  77.101449  72.972973  78.474114  84.872299\n",
       "13   FSGM   SVC      0.2  77.053140  72.911392  78.438493  84.872299\n",
       "14   FSGM   SVC      0.3  76.908213  72.804054  78.292461  84.675835\n",
       "15   FSGM   SVC      0.4  76.618357  72.627119  77.979982  84.184676\n",
       "16   FSGM   SVC      0.5  76.473430  72.519084  77.833409  83.988212\n",
       "17   FSGM   SVC      0.6  76.280193  72.387426  77.630979  83.693517\n",
       "18   FSGM   SVC      0.7  76.086957  72.179813  77.469276  83.595285\n",
       "19   FSGM   SVC      0.8  75.893720  72.010178  77.287210  83.398821\n",
       "20   FSGM   SVC      0.9  75.700483  71.877655  77.084282  83.104126\n",
       "21   FSGM   SVC      1.0  75.507246  71.707732  76.902050  82.907662"
      ]
     },
     "execution_count": 31,
     "metadata": {},
     "output_type": "execute_result"
    }
   ],
   "source": [
    "\n",
    "for i in epsilon:\n",
    "    new_x= fgsm_data(X_test=X_test,eps=i)\n",
    "    svc_eval_data=evaluate(i,svc_model_base, y_test , new_x)\n",
    "    results.append(svc_eval_data)\n",
    "fgsm_res=pd.DataFrame(results)\n",
    "fgsm_res"
   ]
  },
  {
   "cell_type": "code",
   "execution_count": 32,
   "id": "5b52c10c",
   "metadata": {},
   "outputs": [],
   "source": [
    "def evaluate(i, model, y_test,X_test):\n",
    "    y_pred = np.argmax(model.predict(X_test), axis=1)\n",
    "    accuracy= (accuracy_score(y_test, y_pred )*100)\n",
    "    precision= (precision_score(y_test, y_pred, pos_label=1 )*100)\n",
    "    f1score= (f1_score(y_test, y_pred, pos_label=1 )*100)\n",
    "    recall= (recall_score(y_test, y_pred, pos_label=1 )*100)\n",
    "    return {'attack':\"FSGM\",'Model':\"ANN\", 'epsilon' : i  ,'accuracy': accuracy, 'precision':precision, 'f1score': f1score, 'recall': recall}\n"
   ]
  },
  {
   "cell_type": "code",
   "execution_count": 33,
   "id": "63ac94da",
   "metadata": {},
   "outputs": [
    {
     "data": {
      "text/html": [
       "<div>\n",
       "<style scoped>\n",
       "    .dataframe tbody tr th:only-of-type {\n",
       "        vertical-align: middle;\n",
       "    }\n",
       "\n",
       "    .dataframe tbody tr th {\n",
       "        vertical-align: top;\n",
       "    }\n",
       "\n",
       "    .dataframe thead th {\n",
       "        text-align: right;\n",
       "    }\n",
       "</style>\n",
       "<table border=\"1\" class=\"dataframe\">\n",
       "  <thead>\n",
       "    <tr style=\"text-align: right;\">\n",
       "      <th></th>\n",
       "      <th>attack</th>\n",
       "      <th>Model</th>\n",
       "      <th>epsilon</th>\n",
       "      <th>accuracy</th>\n",
       "      <th>precision</th>\n",
       "      <th>f1score</th>\n",
       "      <th>recall</th>\n",
       "    </tr>\n",
       "  </thead>\n",
       "  <tbody>\n",
       "    <tr>\n",
       "      <th>0</th>\n",
       "      <td>FSGM</td>\n",
       "      <td>LR</td>\n",
       "      <td>0.0</td>\n",
       "      <td>84.637681</td>\n",
       "      <td>83.524904</td>\n",
       "      <td>84.578080</td>\n",
       "      <td>85.658153</td>\n",
       "    </tr>\n",
       "    <tr>\n",
       "      <th>1</th>\n",
       "      <td>FSGM</td>\n",
       "      <td>LR</td>\n",
       "      <td>0.1</td>\n",
       "      <td>42.222222</td>\n",
       "      <td>42.764228</td>\n",
       "      <td>46.797153</td>\n",
       "      <td>51.669941</td>\n",
       "    </tr>\n",
       "    <tr>\n",
       "      <th>2</th>\n",
       "      <td>FSGM</td>\n",
       "      <td>LR</td>\n",
       "      <td>0.2</td>\n",
       "      <td>18.405797</td>\n",
       "      <td>19.191919</td>\n",
       "      <td>19.838633</td>\n",
       "      <td>20.530452</td>\n",
       "    </tr>\n",
       "    <tr>\n",
       "      <th>3</th>\n",
       "      <td>FSGM</td>\n",
       "      <td>LR</td>\n",
       "      <td>0.3</td>\n",
       "      <td>15.458937</td>\n",
       "      <td>14.396887</td>\n",
       "      <td>14.467253</td>\n",
       "      <td>14.538310</td>\n",
       "    </tr>\n",
       "    <tr>\n",
       "      <th>4</th>\n",
       "      <td>FSGM</td>\n",
       "      <td>LR</td>\n",
       "      <td>0.4</td>\n",
       "      <td>15.362319</td>\n",
       "      <td>14.230019</td>\n",
       "      <td>14.285714</td>\n",
       "      <td>14.341847</td>\n",
       "    </tr>\n",
       "    <tr>\n",
       "      <th>5</th>\n",
       "      <td>FSGM</td>\n",
       "      <td>LR</td>\n",
       "      <td>0.5</td>\n",
       "      <td>15.362319</td>\n",
       "      <td>14.230019</td>\n",
       "      <td>14.285714</td>\n",
       "      <td>14.341847</td>\n",
       "    </tr>\n",
       "    <tr>\n",
       "      <th>6</th>\n",
       "      <td>FSGM</td>\n",
       "      <td>LR</td>\n",
       "      <td>0.6</td>\n",
       "      <td>15.362319</td>\n",
       "      <td>14.230019</td>\n",
       "      <td>14.285714</td>\n",
       "      <td>14.341847</td>\n",
       "    </tr>\n",
       "    <tr>\n",
       "      <th>7</th>\n",
       "      <td>FSGM</td>\n",
       "      <td>LR</td>\n",
       "      <td>0.7</td>\n",
       "      <td>15.362319</td>\n",
       "      <td>14.230019</td>\n",
       "      <td>14.285714</td>\n",
       "      <td>14.341847</td>\n",
       "    </tr>\n",
       "    <tr>\n",
       "      <th>8</th>\n",
       "      <td>FSGM</td>\n",
       "      <td>LR</td>\n",
       "      <td>0.8</td>\n",
       "      <td>15.362319</td>\n",
       "      <td>14.230019</td>\n",
       "      <td>14.285714</td>\n",
       "      <td>14.341847</td>\n",
       "    </tr>\n",
       "    <tr>\n",
       "      <th>9</th>\n",
       "      <td>FSGM</td>\n",
       "      <td>LR</td>\n",
       "      <td>0.9</td>\n",
       "      <td>15.362319</td>\n",
       "      <td>14.230019</td>\n",
       "      <td>14.285714</td>\n",
       "      <td>14.341847</td>\n",
       "    </tr>\n",
       "    <tr>\n",
       "      <th>10</th>\n",
       "      <td>FSGM</td>\n",
       "      <td>LR</td>\n",
       "      <td>1.0</td>\n",
       "      <td>15.362319</td>\n",
       "      <td>14.230019</td>\n",
       "      <td>14.285714</td>\n",
       "      <td>14.341847</td>\n",
       "    </tr>\n",
       "    <tr>\n",
       "      <th>11</th>\n",
       "      <td>FSGM</td>\n",
       "      <td>SVC</td>\n",
       "      <td>0.0</td>\n",
       "      <td>77.246377</td>\n",
       "      <td>73.158340</td>\n",
       "      <td>78.581173</td>\n",
       "      <td>84.872299</td>\n",
       "    </tr>\n",
       "    <tr>\n",
       "      <th>12</th>\n",
       "      <td>FSGM</td>\n",
       "      <td>SVC</td>\n",
       "      <td>0.1</td>\n",
       "      <td>77.101449</td>\n",
       "      <td>72.972973</td>\n",
       "      <td>78.474114</td>\n",
       "      <td>84.872299</td>\n",
       "    </tr>\n",
       "    <tr>\n",
       "      <th>13</th>\n",
       "      <td>FSGM</td>\n",
       "      <td>SVC</td>\n",
       "      <td>0.2</td>\n",
       "      <td>77.053140</td>\n",
       "      <td>72.911392</td>\n",
       "      <td>78.438493</td>\n",
       "      <td>84.872299</td>\n",
       "    </tr>\n",
       "    <tr>\n",
       "      <th>14</th>\n",
       "      <td>FSGM</td>\n",
       "      <td>SVC</td>\n",
       "      <td>0.3</td>\n",
       "      <td>76.908213</td>\n",
       "      <td>72.804054</td>\n",
       "      <td>78.292461</td>\n",
       "      <td>84.675835</td>\n",
       "    </tr>\n",
       "    <tr>\n",
       "      <th>15</th>\n",
       "      <td>FSGM</td>\n",
       "      <td>SVC</td>\n",
       "      <td>0.4</td>\n",
       "      <td>76.618357</td>\n",
       "      <td>72.627119</td>\n",
       "      <td>77.979982</td>\n",
       "      <td>84.184676</td>\n",
       "    </tr>\n",
       "    <tr>\n",
       "      <th>16</th>\n",
       "      <td>FSGM</td>\n",
       "      <td>SVC</td>\n",
       "      <td>0.5</td>\n",
       "      <td>76.473430</td>\n",
       "      <td>72.519084</td>\n",
       "      <td>77.833409</td>\n",
       "      <td>83.988212</td>\n",
       "    </tr>\n",
       "    <tr>\n",
       "      <th>17</th>\n",
       "      <td>FSGM</td>\n",
       "      <td>SVC</td>\n",
       "      <td>0.6</td>\n",
       "      <td>76.280193</td>\n",
       "      <td>72.387426</td>\n",
       "      <td>77.630979</td>\n",
       "      <td>83.693517</td>\n",
       "    </tr>\n",
       "    <tr>\n",
       "      <th>18</th>\n",
       "      <td>FSGM</td>\n",
       "      <td>SVC</td>\n",
       "      <td>0.7</td>\n",
       "      <td>76.086957</td>\n",
       "      <td>72.179813</td>\n",
       "      <td>77.469276</td>\n",
       "      <td>83.595285</td>\n",
       "    </tr>\n",
       "    <tr>\n",
       "      <th>19</th>\n",
       "      <td>FSGM</td>\n",
       "      <td>SVC</td>\n",
       "      <td>0.8</td>\n",
       "      <td>75.893720</td>\n",
       "      <td>72.010178</td>\n",
       "      <td>77.287210</td>\n",
       "      <td>83.398821</td>\n",
       "    </tr>\n",
       "    <tr>\n",
       "      <th>20</th>\n",
       "      <td>FSGM</td>\n",
       "      <td>SVC</td>\n",
       "      <td>0.9</td>\n",
       "      <td>75.700483</td>\n",
       "      <td>71.877655</td>\n",
       "      <td>77.084282</td>\n",
       "      <td>83.104126</td>\n",
       "    </tr>\n",
       "    <tr>\n",
       "      <th>21</th>\n",
       "      <td>FSGM</td>\n",
       "      <td>SVC</td>\n",
       "      <td>1.0</td>\n",
       "      <td>75.507246</td>\n",
       "      <td>71.707732</td>\n",
       "      <td>76.902050</td>\n",
       "      <td>82.907662</td>\n",
       "    </tr>\n",
       "    <tr>\n",
       "      <th>22</th>\n",
       "      <td>FSGM</td>\n",
       "      <td>ANN</td>\n",
       "      <td>0.0</td>\n",
       "      <td>80.386473</td>\n",
       "      <td>75.757576</td>\n",
       "      <td>81.595648</td>\n",
       "      <td>88.408644</td>\n",
       "    </tr>\n",
       "    <tr>\n",
       "      <th>23</th>\n",
       "      <td>FSGM</td>\n",
       "      <td>ANN</td>\n",
       "      <td>0.1</td>\n",
       "      <td>69.082126</td>\n",
       "      <td>65.962838</td>\n",
       "      <td>70.935513</td>\n",
       "      <td>76.719057</td>\n",
       "    </tr>\n",
       "    <tr>\n",
       "      <th>24</th>\n",
       "      <td>FSGM</td>\n",
       "      <td>ANN</td>\n",
       "      <td>0.2</td>\n",
       "      <td>51.449275</td>\n",
       "      <td>50.594694</td>\n",
       "      <td>52.392231</td>\n",
       "      <td>54.322200</td>\n",
       "    </tr>\n",
       "    <tr>\n",
       "      <th>25</th>\n",
       "      <td>FSGM</td>\n",
       "      <td>ANN</td>\n",
       "      <td>0.3</td>\n",
       "      <td>35.410628</td>\n",
       "      <td>34.619094</td>\n",
       "      <td>34.939173</td>\n",
       "      <td>35.265226</td>\n",
       "    </tr>\n",
       "    <tr>\n",
       "      <th>26</th>\n",
       "      <td>FSGM</td>\n",
       "      <td>ANN</td>\n",
       "      <td>0.4</td>\n",
       "      <td>23.236715</td>\n",
       "      <td>21.982336</td>\n",
       "      <td>21.993127</td>\n",
       "      <td>22.003929</td>\n",
       "    </tr>\n",
       "    <tr>\n",
       "      <th>27</th>\n",
       "      <td>FSGM</td>\n",
       "      <td>ANN</td>\n",
       "      <td>0.5</td>\n",
       "      <td>16.086957</td>\n",
       "      <td>14.858260</td>\n",
       "      <td>14.894659</td>\n",
       "      <td>14.931238</td>\n",
       "    </tr>\n",
       "    <tr>\n",
       "      <th>28</th>\n",
       "      <td>FSGM</td>\n",
       "      <td>ANN</td>\n",
       "      <td>0.6</td>\n",
       "      <td>15.410628</td>\n",
       "      <td>14.243902</td>\n",
       "      <td>14.292707</td>\n",
       "      <td>14.341847</td>\n",
       "    </tr>\n",
       "    <tr>\n",
       "      <th>29</th>\n",
       "      <td>FSGM</td>\n",
       "      <td>ANN</td>\n",
       "      <td>0.7</td>\n",
       "      <td>15.362319</td>\n",
       "      <td>14.230019</td>\n",
       "      <td>14.285714</td>\n",
       "      <td>14.341847</td>\n",
       "    </tr>\n",
       "    <tr>\n",
       "      <th>30</th>\n",
       "      <td>FSGM</td>\n",
       "      <td>ANN</td>\n",
       "      <td>0.8</td>\n",
       "      <td>15.362319</td>\n",
       "      <td>14.230019</td>\n",
       "      <td>14.285714</td>\n",
       "      <td>14.341847</td>\n",
       "    </tr>\n",
       "    <tr>\n",
       "      <th>31</th>\n",
       "      <td>FSGM</td>\n",
       "      <td>ANN</td>\n",
       "      <td>0.9</td>\n",
       "      <td>15.362319</td>\n",
       "      <td>14.230019</td>\n",
       "      <td>14.285714</td>\n",
       "      <td>14.341847</td>\n",
       "    </tr>\n",
       "    <tr>\n",
       "      <th>32</th>\n",
       "      <td>FSGM</td>\n",
       "      <td>ANN</td>\n",
       "      <td>1.0</td>\n",
       "      <td>15.362319</td>\n",
       "      <td>14.230019</td>\n",
       "      <td>14.285714</td>\n",
       "      <td>14.341847</td>\n",
       "    </tr>\n",
       "  </tbody>\n",
       "</table>\n",
       "</div>"
      ],
      "text/plain": [
       "   attack Model  epsilon   accuracy  precision    f1score     recall\n",
       "0    FSGM    LR      0.0  84.637681  83.524904  84.578080  85.658153\n",
       "1    FSGM    LR      0.1  42.222222  42.764228  46.797153  51.669941\n",
       "2    FSGM    LR      0.2  18.405797  19.191919  19.838633  20.530452\n",
       "3    FSGM    LR      0.3  15.458937  14.396887  14.467253  14.538310\n",
       "4    FSGM    LR      0.4  15.362319  14.230019  14.285714  14.341847\n",
       "5    FSGM    LR      0.5  15.362319  14.230019  14.285714  14.341847\n",
       "6    FSGM    LR      0.6  15.362319  14.230019  14.285714  14.341847\n",
       "7    FSGM    LR      0.7  15.362319  14.230019  14.285714  14.341847\n",
       "8    FSGM    LR      0.8  15.362319  14.230019  14.285714  14.341847\n",
       "9    FSGM    LR      0.9  15.362319  14.230019  14.285714  14.341847\n",
       "10   FSGM    LR      1.0  15.362319  14.230019  14.285714  14.341847\n",
       "11   FSGM   SVC      0.0  77.246377  73.158340  78.581173  84.872299\n",
       "12   FSGM   SVC      0.1  77.101449  72.972973  78.474114  84.872299\n",
       "13   FSGM   SVC      0.2  77.053140  72.911392  78.438493  84.872299\n",
       "14   FSGM   SVC      0.3  76.908213  72.804054  78.292461  84.675835\n",
       "15   FSGM   SVC      0.4  76.618357  72.627119  77.979982  84.184676\n",
       "16   FSGM   SVC      0.5  76.473430  72.519084  77.833409  83.988212\n",
       "17   FSGM   SVC      0.6  76.280193  72.387426  77.630979  83.693517\n",
       "18   FSGM   SVC      0.7  76.086957  72.179813  77.469276  83.595285\n",
       "19   FSGM   SVC      0.8  75.893720  72.010178  77.287210  83.398821\n",
       "20   FSGM   SVC      0.9  75.700483  71.877655  77.084282  83.104126\n",
       "21   FSGM   SVC      1.0  75.507246  71.707732  76.902050  82.907662\n",
       "22   FSGM   ANN      0.0  80.386473  75.757576  81.595648  88.408644\n",
       "23   FSGM   ANN      0.1  69.082126  65.962838  70.935513  76.719057\n",
       "24   FSGM   ANN      0.2  51.449275  50.594694  52.392231  54.322200\n",
       "25   FSGM   ANN      0.3  35.410628  34.619094  34.939173  35.265226\n",
       "26   FSGM   ANN      0.4  23.236715  21.982336  21.993127  22.003929\n",
       "27   FSGM   ANN      0.5  16.086957  14.858260  14.894659  14.931238\n",
       "28   FSGM   ANN      0.6  15.410628  14.243902  14.292707  14.341847\n",
       "29   FSGM   ANN      0.7  15.362319  14.230019  14.285714  14.341847\n",
       "30   FSGM   ANN      0.8  15.362319  14.230019  14.285714  14.341847\n",
       "31   FSGM   ANN      0.9  15.362319  14.230019  14.285714  14.341847\n",
       "32   FSGM   ANN      1.0  15.362319  14.230019  14.285714  14.341847"
      ]
     },
     "execution_count": 33,
     "metadata": {},
     "output_type": "execute_result"
    }
   ],
   "source": [
    "for i in epsilon:\n",
    "    new_x= fgsm_data(X_test=X_test,eps=i)\n",
    "    ann_eval_data=evaluate(i,ann_model_base, y_test, new_x)\n",
    "    results.append(ann_eval_data)\n",
    "fgsm_res=pd.DataFrame(results)\n",
    "fgsm_res"
   ]
  },
  {
   "cell_type": "markdown",
   "id": "57cfe99c",
   "metadata": {},
   "source": [
    "## Deep fool"
   ]
  },
  {
   "cell_type": "code",
   "execution_count": 34,
   "id": "4562126d",
   "metadata": {},
   "outputs": [],
   "source": [
    "results=[]"
   ]
  },
  {
   "cell_type": "code",
   "execution_count": 35,
   "id": "d52fbc73",
   "metadata": {},
   "outputs": [],
   "source": [
    "def deepfool_data(X_test,eps):\n",
    "    lr_model=SklearnClassifier(model=lr_model_base)\n",
    "    attack = DeepFool(classifier=lr_model, epsilon=eps)\n",
    "    new_x=attack.generate(x=X_test)\n",
    "    return new_x"
   ]
  },
  {
   "cell_type": "code",
   "execution_count": 36,
   "id": "b3b4fc55",
   "metadata": {},
   "outputs": [],
   "source": [
    "def evaluate(i, model, y_test,X_test):\n",
    "    y_pred = model.predict(X_test)\n",
    "    accuracy= (accuracy_score(y_test, y_pred )*100)\n",
    "    precision= (precision_score(y_test, y_pred,pos_label=1 )*100)\n",
    "    f1score= (f1_score(y_test, y_pred,pos_label=1 )*100)\n",
    "    recall= (recall_score(y_test, y_pred,pos_label=1 )*100)\n",
    "    return {'attack':\"deepfool\",'Model':\"LR\", 'epsilon' : i  ,'accuracy': accuracy, 'precision':precision, 'f1score': f1score, 'recall': recall}"
   ]
  },
  {
   "cell_type": "code",
   "execution_count": 37,
   "id": "62bac835",
   "metadata": {},
   "outputs": [
    {
     "data": {
      "application/vnd.jupyter.widget-view+json": {
       "model_id": "41f969fcf6f34ddcbbd5883372ea5dac",
       "version_major": 2,
       "version_minor": 0
      },
      "text/plain": [
       "DeepFool:   0%|          | 0/2070 [00:00<?, ?it/s]"
      ]
     },
     "metadata": {},
     "output_type": "display_data"
    },
    {
     "data": {
      "application/vnd.jupyter.widget-view+json": {
       "model_id": "9e7b6211fd5247788feb81a15d822638",
       "version_major": 2,
       "version_minor": 0
      },
      "text/plain": [
       "DeepFool:   0%|          | 0/2070 [00:00<?, ?it/s]"
      ]
     },
     "metadata": {},
     "output_type": "display_data"
    },
    {
     "data": {
      "application/vnd.jupyter.widget-view+json": {
       "model_id": "49c54f4b8d0b4d08831c46a911ce00d2",
       "version_major": 2,
       "version_minor": 0
      },
      "text/plain": [
       "DeepFool:   0%|          | 0/2070 [00:00<?, ?it/s]"
      ]
     },
     "metadata": {},
     "output_type": "display_data"
    },
    {
     "data": {
      "application/vnd.jupyter.widget-view+json": {
       "model_id": "7fdc9304e8ba44f0a8bd230fe6ea8a6a",
       "version_major": 2,
       "version_minor": 0
      },
      "text/plain": [
       "DeepFool:   0%|          | 0/2070 [00:00<?, ?it/s]"
      ]
     },
     "metadata": {},
     "output_type": "display_data"
    },
    {
     "data": {
      "application/vnd.jupyter.widget-view+json": {
       "model_id": "33ced63b505646e0a6d4f72c8bcad543",
       "version_major": 2,
       "version_minor": 0
      },
      "text/plain": [
       "DeepFool:   0%|          | 0/2070 [00:00<?, ?it/s]"
      ]
     },
     "metadata": {},
     "output_type": "display_data"
    },
    {
     "data": {
      "application/vnd.jupyter.widget-view+json": {
       "model_id": "6b054eba7b474f1f9316ff247ac3acb6",
       "version_major": 2,
       "version_minor": 0
      },
      "text/plain": [
       "DeepFool:   0%|          | 0/2070 [00:00<?, ?it/s]"
      ]
     },
     "metadata": {},
     "output_type": "display_data"
    },
    {
     "data": {
      "application/vnd.jupyter.widget-view+json": {
       "model_id": "e846bec05c4e4f5b932d488b19a245af",
       "version_major": 2,
       "version_minor": 0
      },
      "text/plain": [
       "DeepFool:   0%|          | 0/2070 [00:00<?, ?it/s]"
      ]
     },
     "metadata": {},
     "output_type": "display_data"
    },
    {
     "data": {
      "application/vnd.jupyter.widget-view+json": {
       "model_id": "3e90f7a0b5d6410c84c2457281dc7102",
       "version_major": 2,
       "version_minor": 0
      },
      "text/plain": [
       "DeepFool:   0%|          | 0/2070 [00:00<?, ?it/s]"
      ]
     },
     "metadata": {},
     "output_type": "display_data"
    },
    {
     "data": {
      "application/vnd.jupyter.widget-view+json": {
       "model_id": "429657d1aceb4da28d34ccd6ab9e0838",
       "version_major": 2,
       "version_minor": 0
      },
      "text/plain": [
       "DeepFool:   0%|          | 0/2070 [00:00<?, ?it/s]"
      ]
     },
     "metadata": {},
     "output_type": "display_data"
    },
    {
     "data": {
      "application/vnd.jupyter.widget-view+json": {
       "model_id": "ca93439e98784f578b3cb9298097a8f8",
       "version_major": 2,
       "version_minor": 0
      },
      "text/plain": [
       "DeepFool:   0%|          | 0/2070 [00:00<?, ?it/s]"
      ]
     },
     "metadata": {},
     "output_type": "display_data"
    },
    {
     "data": {
      "application/vnd.jupyter.widget-view+json": {
       "model_id": "210f140d965a49cc9b801858356e74e9",
       "version_major": 2,
       "version_minor": 0
      },
      "text/plain": [
       "DeepFool:   0%|          | 0/2070 [00:00<?, ?it/s]"
      ]
     },
     "metadata": {},
     "output_type": "display_data"
    },
    {
     "data": {
      "text/html": [
       "<div>\n",
       "<style scoped>\n",
       "    .dataframe tbody tr th:only-of-type {\n",
       "        vertical-align: middle;\n",
       "    }\n",
       "\n",
       "    .dataframe tbody tr th {\n",
       "        vertical-align: top;\n",
       "    }\n",
       "\n",
       "    .dataframe thead th {\n",
       "        text-align: right;\n",
       "    }\n",
       "</style>\n",
       "<table border=\"1\" class=\"dataframe\">\n",
       "  <thead>\n",
       "    <tr style=\"text-align: right;\">\n",
       "      <th></th>\n",
       "      <th>attack</th>\n",
       "      <th>Model</th>\n",
       "      <th>epsilon</th>\n",
       "      <th>accuracy</th>\n",
       "      <th>precision</th>\n",
       "      <th>f1score</th>\n",
       "      <th>recall</th>\n",
       "    </tr>\n",
       "  </thead>\n",
       "  <tbody>\n",
       "    <tr>\n",
       "      <th>0</th>\n",
       "      <td>deepfool</td>\n",
       "      <td>LR</td>\n",
       "      <td>0.000000</td>\n",
       "      <td>15.314010</td>\n",
       "      <td>14.216164</td>\n",
       "      <td>14.278729</td>\n",
       "      <td>14.341847</td>\n",
       "    </tr>\n",
       "    <tr>\n",
       "      <th>1</th>\n",
       "      <td>deepfool</td>\n",
       "      <td>LR</td>\n",
       "      <td>0.000001</td>\n",
       "      <td>15.362319</td>\n",
       "      <td>14.230019</td>\n",
       "      <td>14.285714</td>\n",
       "      <td>14.341847</td>\n",
       "    </tr>\n",
       "    <tr>\n",
       "      <th>2</th>\n",
       "      <td>deepfool</td>\n",
       "      <td>LR</td>\n",
       "      <td>0.000002</td>\n",
       "      <td>15.362319</td>\n",
       "      <td>14.230019</td>\n",
       "      <td>14.285714</td>\n",
       "      <td>14.341847</td>\n",
       "    </tr>\n",
       "    <tr>\n",
       "      <th>3</th>\n",
       "      <td>deepfool</td>\n",
       "      <td>LR</td>\n",
       "      <td>0.000003</td>\n",
       "      <td>15.362319</td>\n",
       "      <td>14.230019</td>\n",
       "      <td>14.285714</td>\n",
       "      <td>14.341847</td>\n",
       "    </tr>\n",
       "    <tr>\n",
       "      <th>4</th>\n",
       "      <td>deepfool</td>\n",
       "      <td>LR</td>\n",
       "      <td>0.000004</td>\n",
       "      <td>15.362319</td>\n",
       "      <td>14.230019</td>\n",
       "      <td>14.285714</td>\n",
       "      <td>14.341847</td>\n",
       "    </tr>\n",
       "    <tr>\n",
       "      <th>5</th>\n",
       "      <td>deepfool</td>\n",
       "      <td>LR</td>\n",
       "      <td>0.000005</td>\n",
       "      <td>15.362319</td>\n",
       "      <td>14.230019</td>\n",
       "      <td>14.285714</td>\n",
       "      <td>14.341847</td>\n",
       "    </tr>\n",
       "    <tr>\n",
       "      <th>6</th>\n",
       "      <td>deepfool</td>\n",
       "      <td>LR</td>\n",
       "      <td>0.000006</td>\n",
       "      <td>15.362319</td>\n",
       "      <td>14.230019</td>\n",
       "      <td>14.285714</td>\n",
       "      <td>14.341847</td>\n",
       "    </tr>\n",
       "    <tr>\n",
       "      <th>7</th>\n",
       "      <td>deepfool</td>\n",
       "      <td>LR</td>\n",
       "      <td>0.000007</td>\n",
       "      <td>15.362319</td>\n",
       "      <td>14.230019</td>\n",
       "      <td>14.285714</td>\n",
       "      <td>14.341847</td>\n",
       "    </tr>\n",
       "    <tr>\n",
       "      <th>8</th>\n",
       "      <td>deepfool</td>\n",
       "      <td>LR</td>\n",
       "      <td>0.000008</td>\n",
       "      <td>15.362319</td>\n",
       "      <td>14.230019</td>\n",
       "      <td>14.285714</td>\n",
       "      <td>14.341847</td>\n",
       "    </tr>\n",
       "    <tr>\n",
       "      <th>9</th>\n",
       "      <td>deepfool</td>\n",
       "      <td>LR</td>\n",
       "      <td>0.000009</td>\n",
       "      <td>15.362319</td>\n",
       "      <td>14.230019</td>\n",
       "      <td>14.285714</td>\n",
       "      <td>14.341847</td>\n",
       "    </tr>\n",
       "    <tr>\n",
       "      <th>10</th>\n",
       "      <td>deepfool</td>\n",
       "      <td>LR</td>\n",
       "      <td>0.000010</td>\n",
       "      <td>15.362319</td>\n",
       "      <td>14.230019</td>\n",
       "      <td>14.285714</td>\n",
       "      <td>14.341847</td>\n",
       "    </tr>\n",
       "  </tbody>\n",
       "</table>\n",
       "</div>"
      ],
      "text/plain": [
       "      attack Model   epsilon   accuracy  precision    f1score     recall\n",
       "0   deepfool    LR  0.000000  15.314010  14.216164  14.278729  14.341847\n",
       "1   deepfool    LR  0.000001  15.362319  14.230019  14.285714  14.341847\n",
       "2   deepfool    LR  0.000002  15.362319  14.230019  14.285714  14.341847\n",
       "3   deepfool    LR  0.000003  15.362319  14.230019  14.285714  14.341847\n",
       "4   deepfool    LR  0.000004  15.362319  14.230019  14.285714  14.341847\n",
       "5   deepfool    LR  0.000005  15.362319  14.230019  14.285714  14.341847\n",
       "6   deepfool    LR  0.000006  15.362319  14.230019  14.285714  14.341847\n",
       "7   deepfool    LR  0.000007  15.362319  14.230019  14.285714  14.341847\n",
       "8   deepfool    LR  0.000008  15.362319  14.230019  14.285714  14.341847\n",
       "9   deepfool    LR  0.000009  15.362319  14.230019  14.285714  14.341847\n",
       "10  deepfool    LR  0.000010  15.362319  14.230019  14.285714  14.341847"
      ]
     },
     "execution_count": 37,
     "metadata": {},
     "output_type": "execute_result"
    }
   ],
   "source": [
    "epsilon=[0,0.000001, 0.0000020, 0.000003 ,0.000004,0.000005,0.000006,0.000007,0.000008,0.000009,0.00001]\n",
    "for i in epsilon:\n",
    "    new_x=deepfool_data(X_test=X_test,eps=i)\n",
    "    lr_eval_data=evaluate(i,lr_model_base, y_test , new_x)\n",
    "    results.append(lr_eval_data)\n",
    "deepfool_res=pd.DataFrame(results)\n",
    "deepfool_res"
   ]
  },
  {
   "cell_type": "code",
   "execution_count": 38,
   "id": "e4fb2144",
   "metadata": {},
   "outputs": [],
   "source": [
    "def evaluate(i, model, y_test,X_test):\n",
    "    y_pred = model.predict(X_test)\n",
    "    accuracy= (accuracy_score(y_test, y_pred )*100)\n",
    "    precision= (precision_score(y_test, y_pred,pos_label=1 )*100)\n",
    "    f1score= (f1_score(y_test, y_pred,pos_label=1 )*100)\n",
    "    recall= (recall_score(y_test, y_pred,pos_label=1 )*100)\n",
    "    return {'attack':\"deepfool\",'Model':\"SVC\", 'epsilon' : i  ,'accuracy': accuracy, 'precision':precision, 'f1score': f1score, 'recall': recall}"
   ]
  },
  {
   "cell_type": "code",
   "execution_count": 39,
   "id": "a1ff1882",
   "metadata": {},
   "outputs": [
    {
     "data": {
      "application/vnd.jupyter.widget-view+json": {
       "model_id": "02431c5dc507498bb3299c22fdc3282d",
       "version_major": 2,
       "version_minor": 0
      },
      "text/plain": [
       "DeepFool:   0%|          | 0/2070 [00:00<?, ?it/s]"
      ]
     },
     "metadata": {},
     "output_type": "display_data"
    },
    {
     "data": {
      "application/vnd.jupyter.widget-view+json": {
       "model_id": "d85637d3bd72453097ce420a83d9d213",
       "version_major": 2,
       "version_minor": 0
      },
      "text/plain": [
       "DeepFool:   0%|          | 0/2070 [00:00<?, ?it/s]"
      ]
     },
     "metadata": {},
     "output_type": "display_data"
    },
    {
     "data": {
      "application/vnd.jupyter.widget-view+json": {
       "model_id": "41346cb60c7f4da9805d0a8b64fe1a13",
       "version_major": 2,
       "version_minor": 0
      },
      "text/plain": [
       "DeepFool:   0%|          | 0/2070 [00:00<?, ?it/s]"
      ]
     },
     "metadata": {},
     "output_type": "display_data"
    },
    {
     "data": {
      "application/vnd.jupyter.widget-view+json": {
       "model_id": "957fdda4eaea43af855e8aae9adb1c98",
       "version_major": 2,
       "version_minor": 0
      },
      "text/plain": [
       "DeepFool:   0%|          | 0/2070 [00:00<?, ?it/s]"
      ]
     },
     "metadata": {},
     "output_type": "display_data"
    },
    {
     "data": {
      "application/vnd.jupyter.widget-view+json": {
       "model_id": "d54fe8c7016d4181b786552a55aed7e5",
       "version_major": 2,
       "version_minor": 0
      },
      "text/plain": [
       "DeepFool:   0%|          | 0/2070 [00:00<?, ?it/s]"
      ]
     },
     "metadata": {},
     "output_type": "display_data"
    },
    {
     "data": {
      "application/vnd.jupyter.widget-view+json": {
       "model_id": "54fdd33d9b0948cbbc0eda0f89ff19eb",
       "version_major": 2,
       "version_minor": 0
      },
      "text/plain": [
       "DeepFool:   0%|          | 0/2070 [00:00<?, ?it/s]"
      ]
     },
     "metadata": {},
     "output_type": "display_data"
    },
    {
     "data": {
      "application/vnd.jupyter.widget-view+json": {
       "model_id": "dca58161f1d3479499efacd9c351db56",
       "version_major": 2,
       "version_minor": 0
      },
      "text/plain": [
       "DeepFool:   0%|          | 0/2070 [00:00<?, ?it/s]"
      ]
     },
     "metadata": {},
     "output_type": "display_data"
    },
    {
     "data": {
      "application/vnd.jupyter.widget-view+json": {
       "model_id": "5548e94c64624f31930bf6660b04992c",
       "version_major": 2,
       "version_minor": 0
      },
      "text/plain": [
       "DeepFool:   0%|          | 0/2070 [00:00<?, ?it/s]"
      ]
     },
     "metadata": {},
     "output_type": "display_data"
    },
    {
     "data": {
      "application/vnd.jupyter.widget-view+json": {
       "model_id": "7ebc545fd78b4adb976eba4959b652ae",
       "version_major": 2,
       "version_minor": 0
      },
      "text/plain": [
       "DeepFool:   0%|          | 0/2070 [00:00<?, ?it/s]"
      ]
     },
     "metadata": {},
     "output_type": "display_data"
    },
    {
     "data": {
      "application/vnd.jupyter.widget-view+json": {
       "model_id": "dc9036cb06f14a19af66ddb4231a5228",
       "version_major": 2,
       "version_minor": 0
      },
      "text/plain": [
       "DeepFool:   0%|          | 0/2070 [00:00<?, ?it/s]"
      ]
     },
     "metadata": {},
     "output_type": "display_data"
    },
    {
     "data": {
      "application/vnd.jupyter.widget-view+json": {
       "model_id": "8f6fedecb1cd4401a1951ed4bd80989e",
       "version_major": 2,
       "version_minor": 0
      },
      "text/plain": [
       "DeepFool:   0%|          | 0/2070 [00:00<?, ?it/s]"
      ]
     },
     "metadata": {},
     "output_type": "display_data"
    },
    {
     "data": {
      "text/html": [
       "<div>\n",
       "<style scoped>\n",
       "    .dataframe tbody tr th:only-of-type {\n",
       "        vertical-align: middle;\n",
       "    }\n",
       "\n",
       "    .dataframe tbody tr th {\n",
       "        vertical-align: top;\n",
       "    }\n",
       "\n",
       "    .dataframe thead th {\n",
       "        text-align: right;\n",
       "    }\n",
       "</style>\n",
       "<table border=\"1\" class=\"dataframe\">\n",
       "  <thead>\n",
       "    <tr style=\"text-align: right;\">\n",
       "      <th></th>\n",
       "      <th>attack</th>\n",
       "      <th>Model</th>\n",
       "      <th>epsilon</th>\n",
       "      <th>accuracy</th>\n",
       "      <th>precision</th>\n",
       "      <th>f1score</th>\n",
       "      <th>recall</th>\n",
       "    </tr>\n",
       "  </thead>\n",
       "  <tbody>\n",
       "    <tr>\n",
       "      <th>0</th>\n",
       "      <td>deepfool</td>\n",
       "      <td>LR</td>\n",
       "      <td>0.000000</td>\n",
       "      <td>15.314010</td>\n",
       "      <td>14.216164</td>\n",
       "      <td>14.278729</td>\n",
       "      <td>14.341847</td>\n",
       "    </tr>\n",
       "    <tr>\n",
       "      <th>1</th>\n",
       "      <td>deepfool</td>\n",
       "      <td>LR</td>\n",
       "      <td>0.000001</td>\n",
       "      <td>15.362319</td>\n",
       "      <td>14.230019</td>\n",
       "      <td>14.285714</td>\n",
       "      <td>14.341847</td>\n",
       "    </tr>\n",
       "    <tr>\n",
       "      <th>2</th>\n",
       "      <td>deepfool</td>\n",
       "      <td>LR</td>\n",
       "      <td>0.000002</td>\n",
       "      <td>15.362319</td>\n",
       "      <td>14.230019</td>\n",
       "      <td>14.285714</td>\n",
       "      <td>14.341847</td>\n",
       "    </tr>\n",
       "    <tr>\n",
       "      <th>3</th>\n",
       "      <td>deepfool</td>\n",
       "      <td>LR</td>\n",
       "      <td>0.000003</td>\n",
       "      <td>15.362319</td>\n",
       "      <td>14.230019</td>\n",
       "      <td>14.285714</td>\n",
       "      <td>14.341847</td>\n",
       "    </tr>\n",
       "    <tr>\n",
       "      <th>4</th>\n",
       "      <td>deepfool</td>\n",
       "      <td>LR</td>\n",
       "      <td>0.000004</td>\n",
       "      <td>15.362319</td>\n",
       "      <td>14.230019</td>\n",
       "      <td>14.285714</td>\n",
       "      <td>14.341847</td>\n",
       "    </tr>\n",
       "    <tr>\n",
       "      <th>5</th>\n",
       "      <td>deepfool</td>\n",
       "      <td>LR</td>\n",
       "      <td>0.000005</td>\n",
       "      <td>15.362319</td>\n",
       "      <td>14.230019</td>\n",
       "      <td>14.285714</td>\n",
       "      <td>14.341847</td>\n",
       "    </tr>\n",
       "    <tr>\n",
       "      <th>6</th>\n",
       "      <td>deepfool</td>\n",
       "      <td>LR</td>\n",
       "      <td>0.000006</td>\n",
       "      <td>15.362319</td>\n",
       "      <td>14.230019</td>\n",
       "      <td>14.285714</td>\n",
       "      <td>14.341847</td>\n",
       "    </tr>\n",
       "    <tr>\n",
       "      <th>7</th>\n",
       "      <td>deepfool</td>\n",
       "      <td>LR</td>\n",
       "      <td>0.000007</td>\n",
       "      <td>15.362319</td>\n",
       "      <td>14.230019</td>\n",
       "      <td>14.285714</td>\n",
       "      <td>14.341847</td>\n",
       "    </tr>\n",
       "    <tr>\n",
       "      <th>8</th>\n",
       "      <td>deepfool</td>\n",
       "      <td>LR</td>\n",
       "      <td>0.000008</td>\n",
       "      <td>15.362319</td>\n",
       "      <td>14.230019</td>\n",
       "      <td>14.285714</td>\n",
       "      <td>14.341847</td>\n",
       "    </tr>\n",
       "    <tr>\n",
       "      <th>9</th>\n",
       "      <td>deepfool</td>\n",
       "      <td>LR</td>\n",
       "      <td>0.000009</td>\n",
       "      <td>15.362319</td>\n",
       "      <td>14.230019</td>\n",
       "      <td>14.285714</td>\n",
       "      <td>14.341847</td>\n",
       "    </tr>\n",
       "    <tr>\n",
       "      <th>10</th>\n",
       "      <td>deepfool</td>\n",
       "      <td>LR</td>\n",
       "      <td>0.000010</td>\n",
       "      <td>15.362319</td>\n",
       "      <td>14.230019</td>\n",
       "      <td>14.285714</td>\n",
       "      <td>14.341847</td>\n",
       "    </tr>\n",
       "    <tr>\n",
       "      <th>11</th>\n",
       "      <td>deepfool</td>\n",
       "      <td>SVC</td>\n",
       "      <td>0.000000</td>\n",
       "      <td>67.101449</td>\n",
       "      <td>67.211440</td>\n",
       "      <td>65.898848</td>\n",
       "      <td>64.636542</td>\n",
       "    </tr>\n",
       "    <tr>\n",
       "      <th>12</th>\n",
       "      <td>deepfool</td>\n",
       "      <td>SVC</td>\n",
       "      <td>0.000001</td>\n",
       "      <td>67.101449</td>\n",
       "      <td>67.211440</td>\n",
       "      <td>65.898848</td>\n",
       "      <td>64.636542</td>\n",
       "    </tr>\n",
       "    <tr>\n",
       "      <th>13</th>\n",
       "      <td>deepfool</td>\n",
       "      <td>SVC</td>\n",
       "      <td>0.000002</td>\n",
       "      <td>67.101449</td>\n",
       "      <td>67.211440</td>\n",
       "      <td>65.898848</td>\n",
       "      <td>64.636542</td>\n",
       "    </tr>\n",
       "    <tr>\n",
       "      <th>14</th>\n",
       "      <td>deepfool</td>\n",
       "      <td>SVC</td>\n",
       "      <td>0.000003</td>\n",
       "      <td>67.101449</td>\n",
       "      <td>67.211440</td>\n",
       "      <td>65.898848</td>\n",
       "      <td>64.636542</td>\n",
       "    </tr>\n",
       "    <tr>\n",
       "      <th>15</th>\n",
       "      <td>deepfool</td>\n",
       "      <td>SVC</td>\n",
       "      <td>0.000004</td>\n",
       "      <td>67.101449</td>\n",
       "      <td>67.211440</td>\n",
       "      <td>65.898848</td>\n",
       "      <td>64.636542</td>\n",
       "    </tr>\n",
       "    <tr>\n",
       "      <th>16</th>\n",
       "      <td>deepfool</td>\n",
       "      <td>SVC</td>\n",
       "      <td>0.000005</td>\n",
       "      <td>67.101449</td>\n",
       "      <td>67.211440</td>\n",
       "      <td>65.898848</td>\n",
       "      <td>64.636542</td>\n",
       "    </tr>\n",
       "    <tr>\n",
       "      <th>17</th>\n",
       "      <td>deepfool</td>\n",
       "      <td>SVC</td>\n",
       "      <td>0.000006</td>\n",
       "      <td>67.101449</td>\n",
       "      <td>67.211440</td>\n",
       "      <td>65.898848</td>\n",
       "      <td>64.636542</td>\n",
       "    </tr>\n",
       "    <tr>\n",
       "      <th>18</th>\n",
       "      <td>deepfool</td>\n",
       "      <td>SVC</td>\n",
       "      <td>0.000007</td>\n",
       "      <td>67.101449</td>\n",
       "      <td>67.211440</td>\n",
       "      <td>65.898848</td>\n",
       "      <td>64.636542</td>\n",
       "    </tr>\n",
       "    <tr>\n",
       "      <th>19</th>\n",
       "      <td>deepfool</td>\n",
       "      <td>SVC</td>\n",
       "      <td>0.000008</td>\n",
       "      <td>67.101449</td>\n",
       "      <td>67.211440</td>\n",
       "      <td>65.898848</td>\n",
       "      <td>64.636542</td>\n",
       "    </tr>\n",
       "    <tr>\n",
       "      <th>20</th>\n",
       "      <td>deepfool</td>\n",
       "      <td>SVC</td>\n",
       "      <td>0.000009</td>\n",
       "      <td>67.101449</td>\n",
       "      <td>67.211440</td>\n",
       "      <td>65.898848</td>\n",
       "      <td>64.636542</td>\n",
       "    </tr>\n",
       "    <tr>\n",
       "      <th>21</th>\n",
       "      <td>deepfool</td>\n",
       "      <td>SVC</td>\n",
       "      <td>0.000010</td>\n",
       "      <td>67.101449</td>\n",
       "      <td>67.211440</td>\n",
       "      <td>65.898848</td>\n",
       "      <td>64.636542</td>\n",
       "    </tr>\n",
       "  </tbody>\n",
       "</table>\n",
       "</div>"
      ],
      "text/plain": [
       "      attack Model   epsilon   accuracy  precision    f1score     recall\n",
       "0   deepfool    LR  0.000000  15.314010  14.216164  14.278729  14.341847\n",
       "1   deepfool    LR  0.000001  15.362319  14.230019  14.285714  14.341847\n",
       "2   deepfool    LR  0.000002  15.362319  14.230019  14.285714  14.341847\n",
       "3   deepfool    LR  0.000003  15.362319  14.230019  14.285714  14.341847\n",
       "4   deepfool    LR  0.000004  15.362319  14.230019  14.285714  14.341847\n",
       "5   deepfool    LR  0.000005  15.362319  14.230019  14.285714  14.341847\n",
       "6   deepfool    LR  0.000006  15.362319  14.230019  14.285714  14.341847\n",
       "7   deepfool    LR  0.000007  15.362319  14.230019  14.285714  14.341847\n",
       "8   deepfool    LR  0.000008  15.362319  14.230019  14.285714  14.341847\n",
       "9   deepfool    LR  0.000009  15.362319  14.230019  14.285714  14.341847\n",
       "10  deepfool    LR  0.000010  15.362319  14.230019  14.285714  14.341847\n",
       "11  deepfool   SVC  0.000000  67.101449  67.211440  65.898848  64.636542\n",
       "12  deepfool   SVC  0.000001  67.101449  67.211440  65.898848  64.636542\n",
       "13  deepfool   SVC  0.000002  67.101449  67.211440  65.898848  64.636542\n",
       "14  deepfool   SVC  0.000003  67.101449  67.211440  65.898848  64.636542\n",
       "15  deepfool   SVC  0.000004  67.101449  67.211440  65.898848  64.636542\n",
       "16  deepfool   SVC  0.000005  67.101449  67.211440  65.898848  64.636542\n",
       "17  deepfool   SVC  0.000006  67.101449  67.211440  65.898848  64.636542\n",
       "18  deepfool   SVC  0.000007  67.101449  67.211440  65.898848  64.636542\n",
       "19  deepfool   SVC  0.000008  67.101449  67.211440  65.898848  64.636542\n",
       "20  deepfool   SVC  0.000009  67.101449  67.211440  65.898848  64.636542\n",
       "21  deepfool   SVC  0.000010  67.101449  67.211440  65.898848  64.636542"
      ]
     },
     "execution_count": 39,
     "metadata": {},
     "output_type": "execute_result"
    }
   ],
   "source": [
    "for i in epsilon:\n",
    "    new_x= deepfool_data(X_test=X_test,eps=i)\n",
    "    svc_eval_data=evaluate(i,svc_model_base, y_test , new_x)\n",
    "    results.append(svc_eval_data)\n",
    "deepfool_res=pd.DataFrame(results)\n",
    "deepfool_res"
   ]
  },
  {
   "cell_type": "code",
   "execution_count": 40,
   "id": "38acac48",
   "metadata": {},
   "outputs": [],
   "source": [
    "def evaluate(i, model, y_test,X_test):\n",
    "    y_pred = np.argmax(model.predict(X_test), axis=1)\n",
    "    accuracy= (accuracy_score(y_test, y_pred )*100)\n",
    "    precision= (precision_score(y_test, y_pred, pos_label=1 )*100)\n",
    "    f1score= (f1_score(y_test, y_pred, pos_label=1 )*100)\n",
    "    recall= (recall_score(y_test, y_pred, pos_label=1 )*100)\n",
    "    return {'attack':\"deepfool\",'Model':\"ANN\", 'epsilon' : i  ,'accuracy': accuracy, 'precision':precision, 'f1score': f1score, 'recall': recall}\n"
   ]
  },
  {
   "cell_type": "code",
   "execution_count": 41,
   "id": "27f25a24",
   "metadata": {},
   "outputs": [
    {
     "data": {
      "application/vnd.jupyter.widget-view+json": {
       "model_id": "c951e764d85a471f88cce238afa7934f",
       "version_major": 2,
       "version_minor": 0
      },
      "text/plain": [
       "DeepFool:   0%|          | 0/2070 [00:00<?, ?it/s]"
      ]
     },
     "metadata": {},
     "output_type": "display_data"
    },
    {
     "data": {
      "application/vnd.jupyter.widget-view+json": {
       "model_id": "c9937a4325ec4a59b3b1608c35d33275",
       "version_major": 2,
       "version_minor": 0
      },
      "text/plain": [
       "DeepFool:   0%|          | 0/2070 [00:00<?, ?it/s]"
      ]
     },
     "metadata": {},
     "output_type": "display_data"
    },
    {
     "data": {
      "application/vnd.jupyter.widget-view+json": {
       "model_id": "bc13fd3672334a8d905525259d258ee2",
       "version_major": 2,
       "version_minor": 0
      },
      "text/plain": [
       "DeepFool:   0%|          | 0/2070 [00:00<?, ?it/s]"
      ]
     },
     "metadata": {},
     "output_type": "display_data"
    },
    {
     "data": {
      "application/vnd.jupyter.widget-view+json": {
       "model_id": "7ff43e39580541458360c67f7fe4fffa",
       "version_major": 2,
       "version_minor": 0
      },
      "text/plain": [
       "DeepFool:   0%|          | 0/2070 [00:00<?, ?it/s]"
      ]
     },
     "metadata": {},
     "output_type": "display_data"
    },
    {
     "data": {
      "application/vnd.jupyter.widget-view+json": {
       "model_id": "d2d14e45453e4e5d95af640919313500",
       "version_major": 2,
       "version_minor": 0
      },
      "text/plain": [
       "DeepFool:   0%|          | 0/2070 [00:00<?, ?it/s]"
      ]
     },
     "metadata": {},
     "output_type": "display_data"
    },
    {
     "data": {
      "application/vnd.jupyter.widget-view+json": {
       "model_id": "bc80d71fc9f74f0080c9cb7ad27ec7ef",
       "version_major": 2,
       "version_minor": 0
      },
      "text/plain": [
       "DeepFool:   0%|          | 0/2070 [00:00<?, ?it/s]"
      ]
     },
     "metadata": {},
     "output_type": "display_data"
    },
    {
     "data": {
      "application/vnd.jupyter.widget-view+json": {
       "model_id": "3496310988014fe8b9df897224834628",
       "version_major": 2,
       "version_minor": 0
      },
      "text/plain": [
       "DeepFool:   0%|          | 0/2070 [00:00<?, ?it/s]"
      ]
     },
     "metadata": {},
     "output_type": "display_data"
    },
    {
     "data": {
      "application/vnd.jupyter.widget-view+json": {
       "model_id": "e6044af39b2941768b742b96229d954c",
       "version_major": 2,
       "version_minor": 0
      },
      "text/plain": [
       "DeepFool:   0%|          | 0/2070 [00:00<?, ?it/s]"
      ]
     },
     "metadata": {},
     "output_type": "display_data"
    },
    {
     "data": {
      "application/vnd.jupyter.widget-view+json": {
       "model_id": "3ac7a906a5f944fe9ade3e00983627ec",
       "version_major": 2,
       "version_minor": 0
      },
      "text/plain": [
       "DeepFool:   0%|          | 0/2070 [00:00<?, ?it/s]"
      ]
     },
     "metadata": {},
     "output_type": "display_data"
    },
    {
     "data": {
      "application/vnd.jupyter.widget-view+json": {
       "model_id": "8107a7cb7c4b46ebaa4810540d778cc0",
       "version_major": 2,
       "version_minor": 0
      },
      "text/plain": [
       "DeepFool:   0%|          | 0/2070 [00:00<?, ?it/s]"
      ]
     },
     "metadata": {},
     "output_type": "display_data"
    },
    {
     "data": {
      "application/vnd.jupyter.widget-view+json": {
       "model_id": "6a4c87a075bd428fb81a41e0ef0bc5e0",
       "version_major": 2,
       "version_minor": 0
      },
      "text/plain": [
       "DeepFool:   0%|          | 0/2070 [00:00<?, ?it/s]"
      ]
     },
     "metadata": {},
     "output_type": "display_data"
    },
    {
     "data": {
      "text/html": [
       "<div>\n",
       "<style scoped>\n",
       "    .dataframe tbody tr th:only-of-type {\n",
       "        vertical-align: middle;\n",
       "    }\n",
       "\n",
       "    .dataframe tbody tr th {\n",
       "        vertical-align: top;\n",
       "    }\n",
       "\n",
       "    .dataframe thead th {\n",
       "        text-align: right;\n",
       "    }\n",
       "</style>\n",
       "<table border=\"1\" class=\"dataframe\">\n",
       "  <thead>\n",
       "    <tr style=\"text-align: right;\">\n",
       "      <th></th>\n",
       "      <th>attack</th>\n",
       "      <th>Model</th>\n",
       "      <th>epsilon</th>\n",
       "      <th>accuracy</th>\n",
       "      <th>precision</th>\n",
       "      <th>f1score</th>\n",
       "      <th>recall</th>\n",
       "    </tr>\n",
       "  </thead>\n",
       "  <tbody>\n",
       "    <tr>\n",
       "      <th>0</th>\n",
       "      <td>deepfool</td>\n",
       "      <td>LR</td>\n",
       "      <td>0.000000</td>\n",
       "      <td>15.314010</td>\n",
       "      <td>14.216164</td>\n",
       "      <td>14.278729</td>\n",
       "      <td>14.341847</td>\n",
       "    </tr>\n",
       "    <tr>\n",
       "      <th>1</th>\n",
       "      <td>deepfool</td>\n",
       "      <td>LR</td>\n",
       "      <td>0.000001</td>\n",
       "      <td>15.362319</td>\n",
       "      <td>14.230019</td>\n",
       "      <td>14.285714</td>\n",
       "      <td>14.341847</td>\n",
       "    </tr>\n",
       "    <tr>\n",
       "      <th>2</th>\n",
       "      <td>deepfool</td>\n",
       "      <td>LR</td>\n",
       "      <td>0.000002</td>\n",
       "      <td>15.362319</td>\n",
       "      <td>14.230019</td>\n",
       "      <td>14.285714</td>\n",
       "      <td>14.341847</td>\n",
       "    </tr>\n",
       "    <tr>\n",
       "      <th>3</th>\n",
       "      <td>deepfool</td>\n",
       "      <td>LR</td>\n",
       "      <td>0.000003</td>\n",
       "      <td>15.362319</td>\n",
       "      <td>14.230019</td>\n",
       "      <td>14.285714</td>\n",
       "      <td>14.341847</td>\n",
       "    </tr>\n",
       "    <tr>\n",
       "      <th>4</th>\n",
       "      <td>deepfool</td>\n",
       "      <td>LR</td>\n",
       "      <td>0.000004</td>\n",
       "      <td>15.362319</td>\n",
       "      <td>14.230019</td>\n",
       "      <td>14.285714</td>\n",
       "      <td>14.341847</td>\n",
       "    </tr>\n",
       "    <tr>\n",
       "      <th>5</th>\n",
       "      <td>deepfool</td>\n",
       "      <td>LR</td>\n",
       "      <td>0.000005</td>\n",
       "      <td>15.362319</td>\n",
       "      <td>14.230019</td>\n",
       "      <td>14.285714</td>\n",
       "      <td>14.341847</td>\n",
       "    </tr>\n",
       "    <tr>\n",
       "      <th>6</th>\n",
       "      <td>deepfool</td>\n",
       "      <td>LR</td>\n",
       "      <td>0.000006</td>\n",
       "      <td>15.362319</td>\n",
       "      <td>14.230019</td>\n",
       "      <td>14.285714</td>\n",
       "      <td>14.341847</td>\n",
       "    </tr>\n",
       "    <tr>\n",
       "      <th>7</th>\n",
       "      <td>deepfool</td>\n",
       "      <td>LR</td>\n",
       "      <td>0.000007</td>\n",
       "      <td>15.362319</td>\n",
       "      <td>14.230019</td>\n",
       "      <td>14.285714</td>\n",
       "      <td>14.341847</td>\n",
       "    </tr>\n",
       "    <tr>\n",
       "      <th>8</th>\n",
       "      <td>deepfool</td>\n",
       "      <td>LR</td>\n",
       "      <td>0.000008</td>\n",
       "      <td>15.362319</td>\n",
       "      <td>14.230019</td>\n",
       "      <td>14.285714</td>\n",
       "      <td>14.341847</td>\n",
       "    </tr>\n",
       "    <tr>\n",
       "      <th>9</th>\n",
       "      <td>deepfool</td>\n",
       "      <td>LR</td>\n",
       "      <td>0.000009</td>\n",
       "      <td>15.362319</td>\n",
       "      <td>14.230019</td>\n",
       "      <td>14.285714</td>\n",
       "      <td>14.341847</td>\n",
       "    </tr>\n",
       "    <tr>\n",
       "      <th>10</th>\n",
       "      <td>deepfool</td>\n",
       "      <td>LR</td>\n",
       "      <td>0.000010</td>\n",
       "      <td>15.362319</td>\n",
       "      <td>14.230019</td>\n",
       "      <td>14.285714</td>\n",
       "      <td>14.341847</td>\n",
       "    </tr>\n",
       "    <tr>\n",
       "      <th>11</th>\n",
       "      <td>deepfool</td>\n",
       "      <td>SVC</td>\n",
       "      <td>0.000000</td>\n",
       "      <td>67.101449</td>\n",
       "      <td>67.211440</td>\n",
       "      <td>65.898848</td>\n",
       "      <td>64.636542</td>\n",
       "    </tr>\n",
       "    <tr>\n",
       "      <th>12</th>\n",
       "      <td>deepfool</td>\n",
       "      <td>SVC</td>\n",
       "      <td>0.000001</td>\n",
       "      <td>67.101449</td>\n",
       "      <td>67.211440</td>\n",
       "      <td>65.898848</td>\n",
       "      <td>64.636542</td>\n",
       "    </tr>\n",
       "    <tr>\n",
       "      <th>13</th>\n",
       "      <td>deepfool</td>\n",
       "      <td>SVC</td>\n",
       "      <td>0.000002</td>\n",
       "      <td>67.101449</td>\n",
       "      <td>67.211440</td>\n",
       "      <td>65.898848</td>\n",
       "      <td>64.636542</td>\n",
       "    </tr>\n",
       "    <tr>\n",
       "      <th>14</th>\n",
       "      <td>deepfool</td>\n",
       "      <td>SVC</td>\n",
       "      <td>0.000003</td>\n",
       "      <td>67.101449</td>\n",
       "      <td>67.211440</td>\n",
       "      <td>65.898848</td>\n",
       "      <td>64.636542</td>\n",
       "    </tr>\n",
       "    <tr>\n",
       "      <th>15</th>\n",
       "      <td>deepfool</td>\n",
       "      <td>SVC</td>\n",
       "      <td>0.000004</td>\n",
       "      <td>67.101449</td>\n",
       "      <td>67.211440</td>\n",
       "      <td>65.898848</td>\n",
       "      <td>64.636542</td>\n",
       "    </tr>\n",
       "    <tr>\n",
       "      <th>16</th>\n",
       "      <td>deepfool</td>\n",
       "      <td>SVC</td>\n",
       "      <td>0.000005</td>\n",
       "      <td>67.101449</td>\n",
       "      <td>67.211440</td>\n",
       "      <td>65.898848</td>\n",
       "      <td>64.636542</td>\n",
       "    </tr>\n",
       "    <tr>\n",
       "      <th>17</th>\n",
       "      <td>deepfool</td>\n",
       "      <td>SVC</td>\n",
       "      <td>0.000006</td>\n",
       "      <td>67.101449</td>\n",
       "      <td>67.211440</td>\n",
       "      <td>65.898848</td>\n",
       "      <td>64.636542</td>\n",
       "    </tr>\n",
       "    <tr>\n",
       "      <th>18</th>\n",
       "      <td>deepfool</td>\n",
       "      <td>SVC</td>\n",
       "      <td>0.000007</td>\n",
       "      <td>67.101449</td>\n",
       "      <td>67.211440</td>\n",
       "      <td>65.898848</td>\n",
       "      <td>64.636542</td>\n",
       "    </tr>\n",
       "    <tr>\n",
       "      <th>19</th>\n",
       "      <td>deepfool</td>\n",
       "      <td>SVC</td>\n",
       "      <td>0.000008</td>\n",
       "      <td>67.101449</td>\n",
       "      <td>67.211440</td>\n",
       "      <td>65.898848</td>\n",
       "      <td>64.636542</td>\n",
       "    </tr>\n",
       "    <tr>\n",
       "      <th>20</th>\n",
       "      <td>deepfool</td>\n",
       "      <td>SVC</td>\n",
       "      <td>0.000009</td>\n",
       "      <td>67.101449</td>\n",
       "      <td>67.211440</td>\n",
       "      <td>65.898848</td>\n",
       "      <td>64.636542</td>\n",
       "    </tr>\n",
       "    <tr>\n",
       "      <th>21</th>\n",
       "      <td>deepfool</td>\n",
       "      <td>SVC</td>\n",
       "      <td>0.000010</td>\n",
       "      <td>67.101449</td>\n",
       "      <td>67.211440</td>\n",
       "      <td>65.898848</td>\n",
       "      <td>64.636542</td>\n",
       "    </tr>\n",
       "    <tr>\n",
       "      <th>22</th>\n",
       "      <td>deepfool</td>\n",
       "      <td>ANN</td>\n",
       "      <td>0.000000</td>\n",
       "      <td>34.879227</td>\n",
       "      <td>35.677083</td>\n",
       "      <td>37.880184</td>\n",
       "      <td>40.373281</td>\n",
       "    </tr>\n",
       "    <tr>\n",
       "      <th>23</th>\n",
       "      <td>deepfool</td>\n",
       "      <td>ANN</td>\n",
       "      <td>0.000001</td>\n",
       "      <td>34.879227</td>\n",
       "      <td>35.677083</td>\n",
       "      <td>37.880184</td>\n",
       "      <td>40.373281</td>\n",
       "    </tr>\n",
       "    <tr>\n",
       "      <th>24</th>\n",
       "      <td>deepfool</td>\n",
       "      <td>ANN</td>\n",
       "      <td>0.000002</td>\n",
       "      <td>34.879227</td>\n",
       "      <td>35.677083</td>\n",
       "      <td>37.880184</td>\n",
       "      <td>40.373281</td>\n",
       "    </tr>\n",
       "    <tr>\n",
       "      <th>25</th>\n",
       "      <td>deepfool</td>\n",
       "      <td>ANN</td>\n",
       "      <td>0.000003</td>\n",
       "      <td>34.879227</td>\n",
       "      <td>35.677083</td>\n",
       "      <td>37.880184</td>\n",
       "      <td>40.373281</td>\n",
       "    </tr>\n",
       "    <tr>\n",
       "      <th>26</th>\n",
       "      <td>deepfool</td>\n",
       "      <td>ANN</td>\n",
       "      <td>0.000004</td>\n",
       "      <td>34.879227</td>\n",
       "      <td>35.677083</td>\n",
       "      <td>37.880184</td>\n",
       "      <td>40.373281</td>\n",
       "    </tr>\n",
       "    <tr>\n",
       "      <th>27</th>\n",
       "      <td>deepfool</td>\n",
       "      <td>ANN</td>\n",
       "      <td>0.000005</td>\n",
       "      <td>34.879227</td>\n",
       "      <td>35.677083</td>\n",
       "      <td>37.880184</td>\n",
       "      <td>40.373281</td>\n",
       "    </tr>\n",
       "    <tr>\n",
       "      <th>28</th>\n",
       "      <td>deepfool</td>\n",
       "      <td>ANN</td>\n",
       "      <td>0.000006</td>\n",
       "      <td>34.879227</td>\n",
       "      <td>35.677083</td>\n",
       "      <td>37.880184</td>\n",
       "      <td>40.373281</td>\n",
       "    </tr>\n",
       "    <tr>\n",
       "      <th>29</th>\n",
       "      <td>deepfool</td>\n",
       "      <td>ANN</td>\n",
       "      <td>0.000007</td>\n",
       "      <td>34.879227</td>\n",
       "      <td>35.677083</td>\n",
       "      <td>37.880184</td>\n",
       "      <td>40.373281</td>\n",
       "    </tr>\n",
       "    <tr>\n",
       "      <th>30</th>\n",
       "      <td>deepfool</td>\n",
       "      <td>ANN</td>\n",
       "      <td>0.000008</td>\n",
       "      <td>34.879227</td>\n",
       "      <td>35.677083</td>\n",
       "      <td>37.880184</td>\n",
       "      <td>40.373281</td>\n",
       "    </tr>\n",
       "    <tr>\n",
       "      <th>31</th>\n",
       "      <td>deepfool</td>\n",
       "      <td>ANN</td>\n",
       "      <td>0.000009</td>\n",
       "      <td>34.879227</td>\n",
       "      <td>35.677083</td>\n",
       "      <td>37.880184</td>\n",
       "      <td>40.373281</td>\n",
       "    </tr>\n",
       "    <tr>\n",
       "      <th>32</th>\n",
       "      <td>deepfool</td>\n",
       "      <td>ANN</td>\n",
       "      <td>0.000010</td>\n",
       "      <td>34.879227</td>\n",
       "      <td>35.677083</td>\n",
       "      <td>37.880184</td>\n",
       "      <td>40.373281</td>\n",
       "    </tr>\n",
       "  </tbody>\n",
       "</table>\n",
       "</div>"
      ],
      "text/plain": [
       "      attack Model   epsilon   accuracy  precision    f1score     recall\n",
       "0   deepfool    LR  0.000000  15.314010  14.216164  14.278729  14.341847\n",
       "1   deepfool    LR  0.000001  15.362319  14.230019  14.285714  14.341847\n",
       "2   deepfool    LR  0.000002  15.362319  14.230019  14.285714  14.341847\n",
       "3   deepfool    LR  0.000003  15.362319  14.230019  14.285714  14.341847\n",
       "4   deepfool    LR  0.000004  15.362319  14.230019  14.285714  14.341847\n",
       "5   deepfool    LR  0.000005  15.362319  14.230019  14.285714  14.341847\n",
       "6   deepfool    LR  0.000006  15.362319  14.230019  14.285714  14.341847\n",
       "7   deepfool    LR  0.000007  15.362319  14.230019  14.285714  14.341847\n",
       "8   deepfool    LR  0.000008  15.362319  14.230019  14.285714  14.341847\n",
       "9   deepfool    LR  0.000009  15.362319  14.230019  14.285714  14.341847\n",
       "10  deepfool    LR  0.000010  15.362319  14.230019  14.285714  14.341847\n",
       "11  deepfool   SVC  0.000000  67.101449  67.211440  65.898848  64.636542\n",
       "12  deepfool   SVC  0.000001  67.101449  67.211440  65.898848  64.636542\n",
       "13  deepfool   SVC  0.000002  67.101449  67.211440  65.898848  64.636542\n",
       "14  deepfool   SVC  0.000003  67.101449  67.211440  65.898848  64.636542\n",
       "15  deepfool   SVC  0.000004  67.101449  67.211440  65.898848  64.636542\n",
       "16  deepfool   SVC  0.000005  67.101449  67.211440  65.898848  64.636542\n",
       "17  deepfool   SVC  0.000006  67.101449  67.211440  65.898848  64.636542\n",
       "18  deepfool   SVC  0.000007  67.101449  67.211440  65.898848  64.636542\n",
       "19  deepfool   SVC  0.000008  67.101449  67.211440  65.898848  64.636542\n",
       "20  deepfool   SVC  0.000009  67.101449  67.211440  65.898848  64.636542\n",
       "21  deepfool   SVC  0.000010  67.101449  67.211440  65.898848  64.636542\n",
       "22  deepfool   ANN  0.000000  34.879227  35.677083  37.880184  40.373281\n",
       "23  deepfool   ANN  0.000001  34.879227  35.677083  37.880184  40.373281\n",
       "24  deepfool   ANN  0.000002  34.879227  35.677083  37.880184  40.373281\n",
       "25  deepfool   ANN  0.000003  34.879227  35.677083  37.880184  40.373281\n",
       "26  deepfool   ANN  0.000004  34.879227  35.677083  37.880184  40.373281\n",
       "27  deepfool   ANN  0.000005  34.879227  35.677083  37.880184  40.373281\n",
       "28  deepfool   ANN  0.000006  34.879227  35.677083  37.880184  40.373281\n",
       "29  deepfool   ANN  0.000007  34.879227  35.677083  37.880184  40.373281\n",
       "30  deepfool   ANN  0.000008  34.879227  35.677083  37.880184  40.373281\n",
       "31  deepfool   ANN  0.000009  34.879227  35.677083  37.880184  40.373281\n",
       "32  deepfool   ANN  0.000010  34.879227  35.677083  37.880184  40.373281"
      ]
     },
     "execution_count": 41,
     "metadata": {},
     "output_type": "execute_result"
    }
   ],
   "source": [
    "for i in epsilon:\n",
    "    new_x= deepfool_data(X_test=X_test,eps=i)\n",
    "    ann_eval_data=evaluate(i,ann_model_base, y_test, new_x)\n",
    "    results.append(ann_eval_data)\n",
    "deepfool_res=pd.DataFrame(results)\n",
    "deepfool_res"
   ]
  },
  {
   "cell_type": "markdown",
   "id": "f0bc1fd9",
   "metadata": {},
   "source": [
    "## JSMA"
   ]
  },
  {
   "cell_type": "code",
   "execution_count": 42,
   "id": "af9b9a89",
   "metadata": {},
   "outputs": [],
   "source": [
    "results=[]"
   ]
  },
  {
   "cell_type": "code",
   "execution_count": 43,
   "id": "5a650c24",
   "metadata": {},
   "outputs": [],
   "source": [
    "def jsma_data(X_test,theta):\n",
    "    lr_model=SklearnClassifier(model=lr_model_base)\n",
    "    attack = SaliencyMapMethod(classifier=lr_model, theta=theta, gamma = 0.01)\n",
    "    new_x=attack.generate(x=X_test)\n",
    "    return new_x"
   ]
  },
  {
   "cell_type": "code",
   "execution_count": 44,
   "id": "66641b58",
   "metadata": {},
   "outputs": [],
   "source": [
    "def evaluate(i, model, y_test,X_test):\n",
    "    y_pred = model.predict(X_test)\n",
    "    accuracy= (accuracy_score(y_test, y_pred )*100)\n",
    "    precision= (precision_score(y_test, y_pred,pos_label=1 )*100)\n",
    "    f1score= (f1_score(y_test, y_pred,pos_label=1 )*100)\n",
    "    recall= (recall_score(y_test, y_pred,pos_label=1 )*100)\n",
    "    return {'attack':\"JSMA\",'Model':\"LR\", 'theta' : i  ,'accuracy': accuracy, 'precision':precision, 'f1score': f1score, 'recall': recall}"
   ]
  },
  {
   "cell_type": "code",
   "execution_count": 45,
   "id": "5a4a3bea",
   "metadata": {},
   "outputs": [
    {
     "data": {
      "application/vnd.jupyter.widget-view+json": {
       "model_id": "4e7b7068d12b4d5cb7eca04a64986ad9",
       "version_major": 2,
       "version_minor": 0
      },
      "text/plain": [
       "JSMA:   0%|          | 0/2070 [00:00<?, ?it/s]"
      ]
     },
     "metadata": {},
     "output_type": "display_data"
    },
    {
     "data": {
      "application/vnd.jupyter.widget-view+json": {
       "model_id": "173533da960c47f29c7bcf1147693ac1",
       "version_major": 2,
       "version_minor": 0
      },
      "text/plain": [
       "JSMA:   0%|          | 0/2070 [00:00<?, ?it/s]"
      ]
     },
     "metadata": {},
     "output_type": "display_data"
    },
    {
     "data": {
      "application/vnd.jupyter.widget-view+json": {
       "model_id": "66e87018419949fab9f7bcaaefd7a7db",
       "version_major": 2,
       "version_minor": 0
      },
      "text/plain": [
       "JSMA:   0%|          | 0/2070 [00:00<?, ?it/s]"
      ]
     },
     "metadata": {},
     "output_type": "display_data"
    },
    {
     "data": {
      "application/vnd.jupyter.widget-view+json": {
       "model_id": "bdd42308849f4fc1a41487688954fcb3",
       "version_major": 2,
       "version_minor": 0
      },
      "text/plain": [
       "JSMA:   0%|          | 0/2070 [00:00<?, ?it/s]"
      ]
     },
     "metadata": {},
     "output_type": "display_data"
    },
    {
     "data": {
      "application/vnd.jupyter.widget-view+json": {
       "model_id": "18c61ec882e44a19b003297cc182df13",
       "version_major": 2,
       "version_minor": 0
      },
      "text/plain": [
       "JSMA:   0%|          | 0/2070 [00:00<?, ?it/s]"
      ]
     },
     "metadata": {},
     "output_type": "display_data"
    },
    {
     "data": {
      "application/vnd.jupyter.widget-view+json": {
       "model_id": "c76d777dc8f24211a275ce2d764732aa",
       "version_major": 2,
       "version_minor": 0
      },
      "text/plain": [
       "JSMA:   0%|          | 0/2070 [00:00<?, ?it/s]"
      ]
     },
     "metadata": {},
     "output_type": "display_data"
    },
    {
     "data": {
      "application/vnd.jupyter.widget-view+json": {
       "model_id": "2c324bcbc4b54e34b9331774f2eec617",
       "version_major": 2,
       "version_minor": 0
      },
      "text/plain": [
       "JSMA:   0%|          | 0/2070 [00:00<?, ?it/s]"
      ]
     },
     "metadata": {},
     "output_type": "display_data"
    },
    {
     "data": {
      "application/vnd.jupyter.widget-view+json": {
       "model_id": "74fff0dfba0b41daa1c6efebf3784a19",
       "version_major": 2,
       "version_minor": 0
      },
      "text/plain": [
       "JSMA:   0%|          | 0/2070 [00:00<?, ?it/s]"
      ]
     },
     "metadata": {},
     "output_type": "display_data"
    },
    {
     "data": {
      "application/vnd.jupyter.widget-view+json": {
       "model_id": "4ef6da32f81f4faf96d683415cb53748",
       "version_major": 2,
       "version_minor": 0
      },
      "text/plain": [
       "JSMA:   0%|          | 0/2070 [00:00<?, ?it/s]"
      ]
     },
     "metadata": {},
     "output_type": "display_data"
    },
    {
     "data": {
      "text/html": [
       "<div>\n",
       "<style scoped>\n",
       "    .dataframe tbody tr th:only-of-type {\n",
       "        vertical-align: middle;\n",
       "    }\n",
       "\n",
       "    .dataframe tbody tr th {\n",
       "        vertical-align: top;\n",
       "    }\n",
       "\n",
       "    .dataframe thead th {\n",
       "        text-align: right;\n",
       "    }\n",
       "</style>\n",
       "<table border=\"1\" class=\"dataframe\">\n",
       "  <thead>\n",
       "    <tr style=\"text-align: right;\">\n",
       "      <th></th>\n",
       "      <th>attack</th>\n",
       "      <th>Model</th>\n",
       "      <th>theta</th>\n",
       "      <th>accuracy</th>\n",
       "      <th>precision</th>\n",
       "      <th>f1score</th>\n",
       "      <th>recall</th>\n",
       "    </tr>\n",
       "  </thead>\n",
       "  <tbody>\n",
       "    <tr>\n",
       "      <th>0</th>\n",
       "      <td>JSMA</td>\n",
       "      <td>LR</td>\n",
       "      <td>0.1</td>\n",
       "      <td>84.637681</td>\n",
       "      <td>86.610879</td>\n",
       "      <td>83.890578</td>\n",
       "      <td>81.335953</td>\n",
       "    </tr>\n",
       "    <tr>\n",
       "      <th>1</th>\n",
       "      <td>JSMA</td>\n",
       "      <td>LR</td>\n",
       "      <td>0.2</td>\n",
       "      <td>82.318841</td>\n",
       "      <td>86.222222</td>\n",
       "      <td>80.917623</td>\n",
       "      <td>76.227898</td>\n",
       "    </tr>\n",
       "    <tr>\n",
       "      <th>2</th>\n",
       "      <td>JSMA</td>\n",
       "      <td>LR</td>\n",
       "      <td>0.3</td>\n",
       "      <td>75.314010</td>\n",
       "      <td>80.286738</td>\n",
       "      <td>72.452830</td>\n",
       "      <td>66.011788</td>\n",
       "    </tr>\n",
       "    <tr>\n",
       "      <th>3</th>\n",
       "      <td>JSMA</td>\n",
       "      <td>LR</td>\n",
       "      <td>0.4</td>\n",
       "      <td>71.062802</td>\n",
       "      <td>74.560375</td>\n",
       "      <td>67.985035</td>\n",
       "      <td>62.475442</td>\n",
       "    </tr>\n",
       "    <tr>\n",
       "      <th>4</th>\n",
       "      <td>JSMA</td>\n",
       "      <td>LR</td>\n",
       "      <td>0.5</td>\n",
       "      <td>68.599034</td>\n",
       "      <td>70.353982</td>\n",
       "      <td>66.181061</td>\n",
       "      <td>62.475442</td>\n",
       "    </tr>\n",
       "    <tr>\n",
       "      <th>5</th>\n",
       "      <td>JSMA</td>\n",
       "      <td>LR</td>\n",
       "      <td>0.6</td>\n",
       "      <td>64.589372</td>\n",
       "      <td>65.372168</td>\n",
       "      <td>62.313625</td>\n",
       "      <td>59.528487</td>\n",
       "    </tr>\n",
       "    <tr>\n",
       "      <th>6</th>\n",
       "      <td>JSMA</td>\n",
       "      <td>LR</td>\n",
       "      <td>0.7</td>\n",
       "      <td>60.724638</td>\n",
       "      <td>60.755509</td>\n",
       "      <td>58.751903</td>\n",
       "      <td>56.876228</td>\n",
       "    </tr>\n",
       "    <tr>\n",
       "      <th>7</th>\n",
       "      <td>JSMA</td>\n",
       "      <td>LR</td>\n",
       "      <td>0.8</td>\n",
       "      <td>56.956522</td>\n",
       "      <td>56.553148</td>\n",
       "      <td>55.158530</td>\n",
       "      <td>53.831041</td>\n",
       "    </tr>\n",
       "    <tr>\n",
       "      <th>8</th>\n",
       "      <td>JSMA</td>\n",
       "      <td>LR</td>\n",
       "      <td>0.9</td>\n",
       "      <td>53.236715</td>\n",
       "      <td>52.556237</td>\n",
       "      <td>51.503006</td>\n",
       "      <td>50.491159</td>\n",
       "    </tr>\n",
       "  </tbody>\n",
       "</table>\n",
       "</div>"
      ],
      "text/plain": [
       "  attack Model  theta   accuracy  precision    f1score     recall\n",
       "0   JSMA    LR    0.1  84.637681  86.610879  83.890578  81.335953\n",
       "1   JSMA    LR    0.2  82.318841  86.222222  80.917623  76.227898\n",
       "2   JSMA    LR    0.3  75.314010  80.286738  72.452830  66.011788\n",
       "3   JSMA    LR    0.4  71.062802  74.560375  67.985035  62.475442\n",
       "4   JSMA    LR    0.5  68.599034  70.353982  66.181061  62.475442\n",
       "5   JSMA    LR    0.6  64.589372  65.372168  62.313625  59.528487\n",
       "6   JSMA    LR    0.7  60.724638  60.755509  58.751903  56.876228\n",
       "7   JSMA    LR    0.8  56.956522  56.553148  55.158530  53.831041\n",
       "8   JSMA    LR    0.9  53.236715  52.556237  51.503006  50.491159"
      ]
     },
     "execution_count": 45,
     "metadata": {},
     "output_type": "execute_result"
    }
   ],
   "source": [
    "theta=[0.1,0.2,0.3,0.4,0.5,0.6,0.7,0.8,0.9]\n",
    "for i in theta:\n",
    "    new_x=jsma_data(X_test=X_test,theta=i)\n",
    "    lr_eval_data=evaluate(i,lr_model_base, y_test , new_x)\n",
    "    results.append(lr_eval_data)\n",
    "jsma_res=pd.DataFrame(results)\n",
    "jsma_res"
   ]
  },
  {
   "cell_type": "code",
   "execution_count": 46,
   "id": "b2a0ad27",
   "metadata": {},
   "outputs": [],
   "source": [
    "def evaluate(i, model, y_test,X_test):\n",
    "    y_pred = model.predict(X_test)\n",
    "    accuracy= (accuracy_score(y_test, y_pred )*100)\n",
    "    precision= (precision_score(y_test, y_pred,pos_label=1 )*100)\n",
    "    f1score= (f1_score(y_test, y_pred,pos_label=1 )*100)\n",
    "    recall= (recall_score(y_test, y_pred,pos_label=1 )*100)\n",
    "    return {'attack':\"JSMA\",'Model':\"SVC\", 'theta' : i  ,'accuracy': accuracy, 'precision':precision, 'f1score': f1score, 'recall': recall}"
   ]
  },
  {
   "cell_type": "code",
   "execution_count": 47,
   "id": "9f357dd9",
   "metadata": {},
   "outputs": [
    {
     "data": {
      "application/vnd.jupyter.widget-view+json": {
       "model_id": "952c47d9c67f4dddafd861241a802fc6",
       "version_major": 2,
       "version_minor": 0
      },
      "text/plain": [
       "JSMA:   0%|          | 0/2070 [00:00<?, ?it/s]"
      ]
     },
     "metadata": {},
     "output_type": "display_data"
    },
    {
     "data": {
      "application/vnd.jupyter.widget-view+json": {
       "model_id": "6ce3eb583332485890f24a005459f3b6",
       "version_major": 2,
       "version_minor": 0
      },
      "text/plain": [
       "JSMA:   0%|          | 0/2070 [00:00<?, ?it/s]"
      ]
     },
     "metadata": {},
     "output_type": "display_data"
    },
    {
     "data": {
      "application/vnd.jupyter.widget-view+json": {
       "model_id": "eb4ce018879a481a989f689e00ed05d4",
       "version_major": 2,
       "version_minor": 0
      },
      "text/plain": [
       "JSMA:   0%|          | 0/2070 [00:00<?, ?it/s]"
      ]
     },
     "metadata": {},
     "output_type": "display_data"
    },
    {
     "data": {
      "application/vnd.jupyter.widget-view+json": {
       "model_id": "56bb053c31c8473d841f056d2a9bc3d6",
       "version_major": 2,
       "version_minor": 0
      },
      "text/plain": [
       "JSMA:   0%|          | 0/2070 [00:00<?, ?it/s]"
      ]
     },
     "metadata": {},
     "output_type": "display_data"
    },
    {
     "data": {
      "application/vnd.jupyter.widget-view+json": {
       "model_id": "723246f473ca449c956ce6cb342dca70",
       "version_major": 2,
       "version_minor": 0
      },
      "text/plain": [
       "JSMA:   0%|          | 0/2070 [00:00<?, ?it/s]"
      ]
     },
     "metadata": {},
     "output_type": "display_data"
    },
    {
     "data": {
      "application/vnd.jupyter.widget-view+json": {
       "model_id": "03d6a73dff324880b1f5269ec99206cc",
       "version_major": 2,
       "version_minor": 0
      },
      "text/plain": [
       "JSMA:   0%|          | 0/2070 [00:00<?, ?it/s]"
      ]
     },
     "metadata": {},
     "output_type": "display_data"
    },
    {
     "data": {
      "application/vnd.jupyter.widget-view+json": {
       "model_id": "dbd6722b9eb344b791c70fba692a4429",
       "version_major": 2,
       "version_minor": 0
      },
      "text/plain": [
       "JSMA:   0%|          | 0/2070 [00:00<?, ?it/s]"
      ]
     },
     "metadata": {},
     "output_type": "display_data"
    },
    {
     "data": {
      "application/vnd.jupyter.widget-view+json": {
       "model_id": "20d10bba8e1340c9be7f714de2ea3ffd",
       "version_major": 2,
       "version_minor": 0
      },
      "text/plain": [
       "JSMA:   0%|          | 0/2070 [00:00<?, ?it/s]"
      ]
     },
     "metadata": {},
     "output_type": "display_data"
    },
    {
     "data": {
      "application/vnd.jupyter.widget-view+json": {
       "model_id": "bcc01faef0e94473af8308490a1c83e1",
       "version_major": 2,
       "version_minor": 0
      },
      "text/plain": [
       "JSMA:   0%|          | 0/2070 [00:00<?, ?it/s]"
      ]
     },
     "metadata": {},
     "output_type": "display_data"
    },
    {
     "data": {
      "text/html": [
       "<div>\n",
       "<style scoped>\n",
       "    .dataframe tbody tr th:only-of-type {\n",
       "        vertical-align: middle;\n",
       "    }\n",
       "\n",
       "    .dataframe tbody tr th {\n",
       "        vertical-align: top;\n",
       "    }\n",
       "\n",
       "    .dataframe thead th {\n",
       "        text-align: right;\n",
       "    }\n",
       "</style>\n",
       "<table border=\"1\" class=\"dataframe\">\n",
       "  <thead>\n",
       "    <tr style=\"text-align: right;\">\n",
       "      <th></th>\n",
       "      <th>attack</th>\n",
       "      <th>Model</th>\n",
       "      <th>theta</th>\n",
       "      <th>accuracy</th>\n",
       "      <th>precision</th>\n",
       "      <th>f1score</th>\n",
       "      <th>recall</th>\n",
       "    </tr>\n",
       "  </thead>\n",
       "  <tbody>\n",
       "    <tr>\n",
       "      <th>0</th>\n",
       "      <td>JSMA</td>\n",
       "      <td>LR</td>\n",
       "      <td>0.1</td>\n",
       "      <td>84.637681</td>\n",
       "      <td>86.610879</td>\n",
       "      <td>83.890578</td>\n",
       "      <td>81.335953</td>\n",
       "    </tr>\n",
       "    <tr>\n",
       "      <th>1</th>\n",
       "      <td>JSMA</td>\n",
       "      <td>LR</td>\n",
       "      <td>0.2</td>\n",
       "      <td>82.318841</td>\n",
       "      <td>86.222222</td>\n",
       "      <td>80.917623</td>\n",
       "      <td>76.227898</td>\n",
       "    </tr>\n",
       "    <tr>\n",
       "      <th>2</th>\n",
       "      <td>JSMA</td>\n",
       "      <td>LR</td>\n",
       "      <td>0.3</td>\n",
       "      <td>75.314010</td>\n",
       "      <td>80.286738</td>\n",
       "      <td>72.452830</td>\n",
       "      <td>66.011788</td>\n",
       "    </tr>\n",
       "    <tr>\n",
       "      <th>3</th>\n",
       "      <td>JSMA</td>\n",
       "      <td>LR</td>\n",
       "      <td>0.4</td>\n",
       "      <td>71.062802</td>\n",
       "      <td>74.560375</td>\n",
       "      <td>67.985035</td>\n",
       "      <td>62.475442</td>\n",
       "    </tr>\n",
       "    <tr>\n",
       "      <th>4</th>\n",
       "      <td>JSMA</td>\n",
       "      <td>LR</td>\n",
       "      <td>0.5</td>\n",
       "      <td>68.599034</td>\n",
       "      <td>70.353982</td>\n",
       "      <td>66.181061</td>\n",
       "      <td>62.475442</td>\n",
       "    </tr>\n",
       "    <tr>\n",
       "      <th>5</th>\n",
       "      <td>JSMA</td>\n",
       "      <td>LR</td>\n",
       "      <td>0.6</td>\n",
       "      <td>64.589372</td>\n",
       "      <td>65.372168</td>\n",
       "      <td>62.313625</td>\n",
       "      <td>59.528487</td>\n",
       "    </tr>\n",
       "    <tr>\n",
       "      <th>6</th>\n",
       "      <td>JSMA</td>\n",
       "      <td>LR</td>\n",
       "      <td>0.7</td>\n",
       "      <td>60.724638</td>\n",
       "      <td>60.755509</td>\n",
       "      <td>58.751903</td>\n",
       "      <td>56.876228</td>\n",
       "    </tr>\n",
       "    <tr>\n",
       "      <th>7</th>\n",
       "      <td>JSMA</td>\n",
       "      <td>LR</td>\n",
       "      <td>0.8</td>\n",
       "      <td>56.956522</td>\n",
       "      <td>56.553148</td>\n",
       "      <td>55.158530</td>\n",
       "      <td>53.831041</td>\n",
       "    </tr>\n",
       "    <tr>\n",
       "      <th>8</th>\n",
       "      <td>JSMA</td>\n",
       "      <td>LR</td>\n",
       "      <td>0.9</td>\n",
       "      <td>53.236715</td>\n",
       "      <td>52.556237</td>\n",
       "      <td>51.503006</td>\n",
       "      <td>50.491159</td>\n",
       "    </tr>\n",
       "    <tr>\n",
       "      <th>9</th>\n",
       "      <td>JSMA</td>\n",
       "      <td>SVC</td>\n",
       "      <td>0.1</td>\n",
       "      <td>77.246377</td>\n",
       "      <td>73.158340</td>\n",
       "      <td>78.581173</td>\n",
       "      <td>84.872299</td>\n",
       "    </tr>\n",
       "    <tr>\n",
       "      <th>10</th>\n",
       "      <td>JSMA</td>\n",
       "      <td>SVC</td>\n",
       "      <td>0.2</td>\n",
       "      <td>77.246377</td>\n",
       "      <td>73.158340</td>\n",
       "      <td>78.581173</td>\n",
       "      <td>84.872299</td>\n",
       "    </tr>\n",
       "    <tr>\n",
       "      <th>11</th>\n",
       "      <td>JSMA</td>\n",
       "      <td>SVC</td>\n",
       "      <td>0.3</td>\n",
       "      <td>77.246377</td>\n",
       "      <td>73.158340</td>\n",
       "      <td>78.581173</td>\n",
       "      <td>84.872299</td>\n",
       "    </tr>\n",
       "    <tr>\n",
       "      <th>12</th>\n",
       "      <td>JSMA</td>\n",
       "      <td>SVC</td>\n",
       "      <td>0.4</td>\n",
       "      <td>77.246377</td>\n",
       "      <td>73.158340</td>\n",
       "      <td>78.581173</td>\n",
       "      <td>84.872299</td>\n",
       "    </tr>\n",
       "    <tr>\n",
       "      <th>13</th>\n",
       "      <td>JSMA</td>\n",
       "      <td>SVC</td>\n",
       "      <td>0.5</td>\n",
       "      <td>77.246377</td>\n",
       "      <td>73.158340</td>\n",
       "      <td>78.581173</td>\n",
       "      <td>84.872299</td>\n",
       "    </tr>\n",
       "    <tr>\n",
       "      <th>14</th>\n",
       "      <td>JSMA</td>\n",
       "      <td>SVC</td>\n",
       "      <td>0.6</td>\n",
       "      <td>77.246377</td>\n",
       "      <td>73.158340</td>\n",
       "      <td>78.581173</td>\n",
       "      <td>84.872299</td>\n",
       "    </tr>\n",
       "    <tr>\n",
       "      <th>15</th>\n",
       "      <td>JSMA</td>\n",
       "      <td>SVC</td>\n",
       "      <td>0.7</td>\n",
       "      <td>77.246377</td>\n",
       "      <td>73.158340</td>\n",
       "      <td>78.581173</td>\n",
       "      <td>84.872299</td>\n",
       "    </tr>\n",
       "    <tr>\n",
       "      <th>16</th>\n",
       "      <td>JSMA</td>\n",
       "      <td>SVC</td>\n",
       "      <td>0.8</td>\n",
       "      <td>77.246377</td>\n",
       "      <td>73.158340</td>\n",
       "      <td>78.581173</td>\n",
       "      <td>84.872299</td>\n",
       "    </tr>\n",
       "    <tr>\n",
       "      <th>17</th>\n",
       "      <td>JSMA</td>\n",
       "      <td>SVC</td>\n",
       "      <td>0.9</td>\n",
       "      <td>77.294686</td>\n",
       "      <td>73.220339</td>\n",
       "      <td>78.616924</td>\n",
       "      <td>84.872299</td>\n",
       "    </tr>\n",
       "  </tbody>\n",
       "</table>\n",
       "</div>"
      ],
      "text/plain": [
       "   attack Model  theta   accuracy  precision    f1score     recall\n",
       "0    JSMA    LR    0.1  84.637681  86.610879  83.890578  81.335953\n",
       "1    JSMA    LR    0.2  82.318841  86.222222  80.917623  76.227898\n",
       "2    JSMA    LR    0.3  75.314010  80.286738  72.452830  66.011788\n",
       "3    JSMA    LR    0.4  71.062802  74.560375  67.985035  62.475442\n",
       "4    JSMA    LR    0.5  68.599034  70.353982  66.181061  62.475442\n",
       "5    JSMA    LR    0.6  64.589372  65.372168  62.313625  59.528487\n",
       "6    JSMA    LR    0.7  60.724638  60.755509  58.751903  56.876228\n",
       "7    JSMA    LR    0.8  56.956522  56.553148  55.158530  53.831041\n",
       "8    JSMA    LR    0.9  53.236715  52.556237  51.503006  50.491159\n",
       "9    JSMA   SVC    0.1  77.246377  73.158340  78.581173  84.872299\n",
       "10   JSMA   SVC    0.2  77.246377  73.158340  78.581173  84.872299\n",
       "11   JSMA   SVC    0.3  77.246377  73.158340  78.581173  84.872299\n",
       "12   JSMA   SVC    0.4  77.246377  73.158340  78.581173  84.872299\n",
       "13   JSMA   SVC    0.5  77.246377  73.158340  78.581173  84.872299\n",
       "14   JSMA   SVC    0.6  77.246377  73.158340  78.581173  84.872299\n",
       "15   JSMA   SVC    0.7  77.246377  73.158340  78.581173  84.872299\n",
       "16   JSMA   SVC    0.8  77.246377  73.158340  78.581173  84.872299\n",
       "17   JSMA   SVC    0.9  77.294686  73.220339  78.616924  84.872299"
      ]
     },
     "execution_count": 47,
     "metadata": {},
     "output_type": "execute_result"
    }
   ],
   "source": [
    "theta=[0.1,0.2,0.3,0.4,0.5,0.6,0.7,0.8,0.9]\n",
    "for i in theta:\n",
    "    new_x=jsma_data(X_test=X_test,theta=i)\n",
    "    svc_eval_data=evaluate(i,svc_model_base, y_test , new_x)\n",
    "    results.append(svc_eval_data)\n",
    "jsma_res=pd.DataFrame(results)\n",
    "jsma_res\n"
   ]
  },
  {
   "cell_type": "code",
   "execution_count": 48,
   "id": "c103ed27",
   "metadata": {},
   "outputs": [],
   "source": [
    "def evaluate(i, model, y_test,X_test):\n",
    "    y_pred = np.argmax(model.predict(X_test), axis=1)\n",
    "    accuracy= (accuracy_score(y_test, y_pred )*100)\n",
    "    precision= (precision_score(y_test, y_pred, pos_label=0 )*100)\n",
    "    f1score= (f1_score(y_test, y_pred, pos_label=0 )*100)\n",
    "    recall= (recall_score(y_test, y_pred, pos_label=0 )*100)\n",
    "    return {'attack':\"JSMA\",'Model':\"ANN\", 'theta' : i  ,'accuracy': accuracy, 'precision':precision, 'f1score': f1score, 'recall': recall}"
   ]
  },
  {
   "cell_type": "code",
   "execution_count": 49,
   "id": "bce31a50",
   "metadata": {
    "scrolled": true
   },
   "outputs": [
    {
     "data": {
      "application/vnd.jupyter.widget-view+json": {
       "model_id": "d4636305162e41cf8dac83fedc98fb23",
       "version_major": 2,
       "version_minor": 0
      },
      "text/plain": [
       "JSMA:   0%|          | 0/2070 [00:00<?, ?it/s]"
      ]
     },
     "metadata": {},
     "output_type": "display_data"
    },
    {
     "data": {
      "application/vnd.jupyter.widget-view+json": {
       "model_id": "df674d0441324b0c9236a81b0b90ecc1",
       "version_major": 2,
       "version_minor": 0
      },
      "text/plain": [
       "JSMA:   0%|          | 0/2070 [00:00<?, ?it/s]"
      ]
     },
     "metadata": {},
     "output_type": "display_data"
    },
    {
     "data": {
      "application/vnd.jupyter.widget-view+json": {
       "model_id": "74992c7ac8dc46d5a7a75c85af2aa9a5",
       "version_major": 2,
       "version_minor": 0
      },
      "text/plain": [
       "JSMA:   0%|          | 0/2070 [00:00<?, ?it/s]"
      ]
     },
     "metadata": {},
     "output_type": "display_data"
    },
    {
     "data": {
      "application/vnd.jupyter.widget-view+json": {
       "model_id": "8cb8f0421f3c4719948763a074ecfc06",
       "version_major": 2,
       "version_minor": 0
      },
      "text/plain": [
       "JSMA:   0%|          | 0/2070 [00:00<?, ?it/s]"
      ]
     },
     "metadata": {},
     "output_type": "display_data"
    },
    {
     "data": {
      "application/vnd.jupyter.widget-view+json": {
       "model_id": "7ae37cc9dcef478187b2ad534c94b43b",
       "version_major": 2,
       "version_minor": 0
      },
      "text/plain": [
       "JSMA:   0%|          | 0/2070 [00:00<?, ?it/s]"
      ]
     },
     "metadata": {},
     "output_type": "display_data"
    },
    {
     "data": {
      "application/vnd.jupyter.widget-view+json": {
       "model_id": "5eaa89a9ceba4187b9318d11ee76a36f",
       "version_major": 2,
       "version_minor": 0
      },
      "text/plain": [
       "JSMA:   0%|          | 0/2070 [00:00<?, ?it/s]"
      ]
     },
     "metadata": {},
     "output_type": "display_data"
    },
    {
     "data": {
      "application/vnd.jupyter.widget-view+json": {
       "model_id": "624d3eda0a7548b6a3f48beb75c3f5f1",
       "version_major": 2,
       "version_minor": 0
      },
      "text/plain": [
       "JSMA:   0%|          | 0/2070 [00:00<?, ?it/s]"
      ]
     },
     "metadata": {},
     "output_type": "display_data"
    },
    {
     "data": {
      "application/vnd.jupyter.widget-view+json": {
       "model_id": "d981400c61334fe7a02cb67abad95af6",
       "version_major": 2,
       "version_minor": 0
      },
      "text/plain": [
       "JSMA:   0%|          | 0/2070 [00:00<?, ?it/s]"
      ]
     },
     "metadata": {},
     "output_type": "display_data"
    },
    {
     "data": {
      "application/vnd.jupyter.widget-view+json": {
       "model_id": "e6fad562ded9439b86794b67b6e46d19",
       "version_major": 2,
       "version_minor": 0
      },
      "text/plain": [
       "JSMA:   0%|          | 0/2070 [00:00<?, ?it/s]"
      ]
     },
     "metadata": {},
     "output_type": "display_data"
    },
    {
     "data": {
      "text/html": [
       "<div>\n",
       "<style scoped>\n",
       "    .dataframe tbody tr th:only-of-type {\n",
       "        vertical-align: middle;\n",
       "    }\n",
       "\n",
       "    .dataframe tbody tr th {\n",
       "        vertical-align: top;\n",
       "    }\n",
       "\n",
       "    .dataframe thead th {\n",
       "        text-align: right;\n",
       "    }\n",
       "</style>\n",
       "<table border=\"1\" class=\"dataframe\">\n",
       "  <thead>\n",
       "    <tr style=\"text-align: right;\">\n",
       "      <th></th>\n",
       "      <th>attack</th>\n",
       "      <th>Model</th>\n",
       "      <th>theta</th>\n",
       "      <th>accuracy</th>\n",
       "      <th>precision</th>\n",
       "      <th>f1score</th>\n",
       "      <th>recall</th>\n",
       "    </tr>\n",
       "  </thead>\n",
       "  <tbody>\n",
       "    <tr>\n",
       "      <th>0</th>\n",
       "      <td>JSMA</td>\n",
       "      <td>LR</td>\n",
       "      <td>0.1</td>\n",
       "      <td>84.637681</td>\n",
       "      <td>86.610879</td>\n",
       "      <td>83.890578</td>\n",
       "      <td>81.335953</td>\n",
       "    </tr>\n",
       "    <tr>\n",
       "      <th>1</th>\n",
       "      <td>JSMA</td>\n",
       "      <td>LR</td>\n",
       "      <td>0.2</td>\n",
       "      <td>82.318841</td>\n",
       "      <td>86.222222</td>\n",
       "      <td>80.917623</td>\n",
       "      <td>76.227898</td>\n",
       "    </tr>\n",
       "    <tr>\n",
       "      <th>2</th>\n",
       "      <td>JSMA</td>\n",
       "      <td>LR</td>\n",
       "      <td>0.3</td>\n",
       "      <td>75.314010</td>\n",
       "      <td>80.286738</td>\n",
       "      <td>72.452830</td>\n",
       "      <td>66.011788</td>\n",
       "    </tr>\n",
       "    <tr>\n",
       "      <th>3</th>\n",
       "      <td>JSMA</td>\n",
       "      <td>LR</td>\n",
       "      <td>0.4</td>\n",
       "      <td>71.062802</td>\n",
       "      <td>74.560375</td>\n",
       "      <td>67.985035</td>\n",
       "      <td>62.475442</td>\n",
       "    </tr>\n",
       "    <tr>\n",
       "      <th>4</th>\n",
       "      <td>JSMA</td>\n",
       "      <td>LR</td>\n",
       "      <td>0.5</td>\n",
       "      <td>68.599034</td>\n",
       "      <td>70.353982</td>\n",
       "      <td>66.181061</td>\n",
       "      <td>62.475442</td>\n",
       "    </tr>\n",
       "    <tr>\n",
       "      <th>5</th>\n",
       "      <td>JSMA</td>\n",
       "      <td>LR</td>\n",
       "      <td>0.6</td>\n",
       "      <td>64.589372</td>\n",
       "      <td>65.372168</td>\n",
       "      <td>62.313625</td>\n",
       "      <td>59.528487</td>\n",
       "    </tr>\n",
       "    <tr>\n",
       "      <th>6</th>\n",
       "      <td>JSMA</td>\n",
       "      <td>LR</td>\n",
       "      <td>0.7</td>\n",
       "      <td>60.724638</td>\n",
       "      <td>60.755509</td>\n",
       "      <td>58.751903</td>\n",
       "      <td>56.876228</td>\n",
       "    </tr>\n",
       "    <tr>\n",
       "      <th>7</th>\n",
       "      <td>JSMA</td>\n",
       "      <td>LR</td>\n",
       "      <td>0.8</td>\n",
       "      <td>56.956522</td>\n",
       "      <td>56.553148</td>\n",
       "      <td>55.158530</td>\n",
       "      <td>53.831041</td>\n",
       "    </tr>\n",
       "    <tr>\n",
       "      <th>8</th>\n",
       "      <td>JSMA</td>\n",
       "      <td>LR</td>\n",
       "      <td>0.9</td>\n",
       "      <td>53.236715</td>\n",
       "      <td>52.556237</td>\n",
       "      <td>51.503006</td>\n",
       "      <td>50.491159</td>\n",
       "    </tr>\n",
       "    <tr>\n",
       "      <th>9</th>\n",
       "      <td>JSMA</td>\n",
       "      <td>SVC</td>\n",
       "      <td>0.1</td>\n",
       "      <td>77.246377</td>\n",
       "      <td>73.158340</td>\n",
       "      <td>78.581173</td>\n",
       "      <td>84.872299</td>\n",
       "    </tr>\n",
       "    <tr>\n",
       "      <th>10</th>\n",
       "      <td>JSMA</td>\n",
       "      <td>SVC</td>\n",
       "      <td>0.2</td>\n",
       "      <td>77.246377</td>\n",
       "      <td>73.158340</td>\n",
       "      <td>78.581173</td>\n",
       "      <td>84.872299</td>\n",
       "    </tr>\n",
       "    <tr>\n",
       "      <th>11</th>\n",
       "      <td>JSMA</td>\n",
       "      <td>SVC</td>\n",
       "      <td>0.3</td>\n",
       "      <td>77.246377</td>\n",
       "      <td>73.158340</td>\n",
       "      <td>78.581173</td>\n",
       "      <td>84.872299</td>\n",
       "    </tr>\n",
       "    <tr>\n",
       "      <th>12</th>\n",
       "      <td>JSMA</td>\n",
       "      <td>SVC</td>\n",
       "      <td>0.4</td>\n",
       "      <td>77.246377</td>\n",
       "      <td>73.158340</td>\n",
       "      <td>78.581173</td>\n",
       "      <td>84.872299</td>\n",
       "    </tr>\n",
       "    <tr>\n",
       "      <th>13</th>\n",
       "      <td>JSMA</td>\n",
       "      <td>SVC</td>\n",
       "      <td>0.5</td>\n",
       "      <td>77.246377</td>\n",
       "      <td>73.158340</td>\n",
       "      <td>78.581173</td>\n",
       "      <td>84.872299</td>\n",
       "    </tr>\n",
       "    <tr>\n",
       "      <th>14</th>\n",
       "      <td>JSMA</td>\n",
       "      <td>SVC</td>\n",
       "      <td>0.6</td>\n",
       "      <td>77.246377</td>\n",
       "      <td>73.158340</td>\n",
       "      <td>78.581173</td>\n",
       "      <td>84.872299</td>\n",
       "    </tr>\n",
       "    <tr>\n",
       "      <th>15</th>\n",
       "      <td>JSMA</td>\n",
       "      <td>SVC</td>\n",
       "      <td>0.7</td>\n",
       "      <td>77.246377</td>\n",
       "      <td>73.158340</td>\n",
       "      <td>78.581173</td>\n",
       "      <td>84.872299</td>\n",
       "    </tr>\n",
       "    <tr>\n",
       "      <th>16</th>\n",
       "      <td>JSMA</td>\n",
       "      <td>SVC</td>\n",
       "      <td>0.8</td>\n",
       "      <td>77.246377</td>\n",
       "      <td>73.158340</td>\n",
       "      <td>78.581173</td>\n",
       "      <td>84.872299</td>\n",
       "    </tr>\n",
       "    <tr>\n",
       "      <th>17</th>\n",
       "      <td>JSMA</td>\n",
       "      <td>SVC</td>\n",
       "      <td>0.9</td>\n",
       "      <td>77.294686</td>\n",
       "      <td>73.220339</td>\n",
       "      <td>78.616924</td>\n",
       "      <td>84.872299</td>\n",
       "    </tr>\n",
       "    <tr>\n",
       "      <th>18</th>\n",
       "      <td>JSMA</td>\n",
       "      <td>ANN</td>\n",
       "      <td>0.1</td>\n",
       "      <td>80.628019</td>\n",
       "      <td>86.862967</td>\n",
       "      <td>79.276486</td>\n",
       "      <td>72.908745</td>\n",
       "    </tr>\n",
       "    <tr>\n",
       "      <th>19</th>\n",
       "      <td>JSMA</td>\n",
       "      <td>ANN</td>\n",
       "      <td>0.2</td>\n",
       "      <td>80.096618</td>\n",
       "      <td>85.555556</td>\n",
       "      <td>78.893443</td>\n",
       "      <td>73.193916</td>\n",
       "    </tr>\n",
       "    <tr>\n",
       "      <th>20</th>\n",
       "      <td>JSMA</td>\n",
       "      <td>ANN</td>\n",
       "      <td>0.3</td>\n",
       "      <td>79.806763</td>\n",
       "      <td>84.233261</td>\n",
       "      <td>78.867543</td>\n",
       "      <td>74.144487</td>\n",
       "    </tr>\n",
       "    <tr>\n",
       "      <th>21</th>\n",
       "      <td>JSMA</td>\n",
       "      <td>ANN</td>\n",
       "      <td>0.4</td>\n",
       "      <td>79.227053</td>\n",
       "      <td>82.875264</td>\n",
       "      <td>78.478478</td>\n",
       "      <td>74.524715</td>\n",
       "    </tr>\n",
       "    <tr>\n",
       "      <th>22</th>\n",
       "      <td>JSMA</td>\n",
       "      <td>ANN</td>\n",
       "      <td>0.5</td>\n",
       "      <td>78.405797</td>\n",
       "      <td>80.962129</td>\n",
       "      <td>77.969443</td>\n",
       "      <td>75.190114</td>\n",
       "    </tr>\n",
       "    <tr>\n",
       "      <th>23</th>\n",
       "      <td>JSMA</td>\n",
       "      <td>ANN</td>\n",
       "      <td>0.6</td>\n",
       "      <td>77.729469</td>\n",
       "      <td>79.344588</td>\n",
       "      <td>77.610491</td>\n",
       "      <td>75.950570</td>\n",
       "    </tr>\n",
       "    <tr>\n",
       "      <th>24</th>\n",
       "      <td>JSMA</td>\n",
       "      <td>ANN</td>\n",
       "      <td>0.7</td>\n",
       "      <td>76.328502</td>\n",
       "      <td>76.761905</td>\n",
       "      <td>76.688868</td>\n",
       "      <td>76.615970</td>\n",
       "    </tr>\n",
       "    <tr>\n",
       "      <th>25</th>\n",
       "      <td>JSMA</td>\n",
       "      <td>ANN</td>\n",
       "      <td>0.8</td>\n",
       "      <td>75.797101</td>\n",
       "      <td>75.532901</td>\n",
       "      <td>76.489911</td>\n",
       "      <td>77.471483</td>\n",
       "    </tr>\n",
       "    <tr>\n",
       "      <th>26</th>\n",
       "      <td>JSMA</td>\n",
       "      <td>ANN</td>\n",
       "      <td>0.9</td>\n",
       "      <td>74.347826</td>\n",
       "      <td>73.279714</td>\n",
       "      <td>75.541225</td>\n",
       "      <td>77.946768</td>\n",
       "    </tr>\n",
       "  </tbody>\n",
       "</table>\n",
       "</div>"
      ],
      "text/plain": [
       "   attack Model  theta   accuracy  precision    f1score     recall\n",
       "0    JSMA    LR    0.1  84.637681  86.610879  83.890578  81.335953\n",
       "1    JSMA    LR    0.2  82.318841  86.222222  80.917623  76.227898\n",
       "2    JSMA    LR    0.3  75.314010  80.286738  72.452830  66.011788\n",
       "3    JSMA    LR    0.4  71.062802  74.560375  67.985035  62.475442\n",
       "4    JSMA    LR    0.5  68.599034  70.353982  66.181061  62.475442\n",
       "5    JSMA    LR    0.6  64.589372  65.372168  62.313625  59.528487\n",
       "6    JSMA    LR    0.7  60.724638  60.755509  58.751903  56.876228\n",
       "7    JSMA    LR    0.8  56.956522  56.553148  55.158530  53.831041\n",
       "8    JSMA    LR    0.9  53.236715  52.556237  51.503006  50.491159\n",
       "9    JSMA   SVC    0.1  77.246377  73.158340  78.581173  84.872299\n",
       "10   JSMA   SVC    0.2  77.246377  73.158340  78.581173  84.872299\n",
       "11   JSMA   SVC    0.3  77.246377  73.158340  78.581173  84.872299\n",
       "12   JSMA   SVC    0.4  77.246377  73.158340  78.581173  84.872299\n",
       "13   JSMA   SVC    0.5  77.246377  73.158340  78.581173  84.872299\n",
       "14   JSMA   SVC    0.6  77.246377  73.158340  78.581173  84.872299\n",
       "15   JSMA   SVC    0.7  77.246377  73.158340  78.581173  84.872299\n",
       "16   JSMA   SVC    0.8  77.246377  73.158340  78.581173  84.872299\n",
       "17   JSMA   SVC    0.9  77.294686  73.220339  78.616924  84.872299\n",
       "18   JSMA   ANN    0.1  80.628019  86.862967  79.276486  72.908745\n",
       "19   JSMA   ANN    0.2  80.096618  85.555556  78.893443  73.193916\n",
       "20   JSMA   ANN    0.3  79.806763  84.233261  78.867543  74.144487\n",
       "21   JSMA   ANN    0.4  79.227053  82.875264  78.478478  74.524715\n",
       "22   JSMA   ANN    0.5  78.405797  80.962129  77.969443  75.190114\n",
       "23   JSMA   ANN    0.6  77.729469  79.344588  77.610491  75.950570\n",
       "24   JSMA   ANN    0.7  76.328502  76.761905  76.688868  76.615970\n",
       "25   JSMA   ANN    0.8  75.797101  75.532901  76.489911  77.471483\n",
       "26   JSMA   ANN    0.9  74.347826  73.279714  75.541225  77.946768"
      ]
     },
     "execution_count": 49,
     "metadata": {},
     "output_type": "execute_result"
    }
   ],
   "source": [
    "for i in theta:\n",
    "    new_x= jsma_data(X_test=X_test,theta=i)\n",
    "    ann_eval_data=evaluate(i,ann_model_base, y_test, new_x)\n",
    "    results.append(ann_eval_data)\n",
    "jsma_res=pd.DataFrame(results)\n",
    "jsma_res"
   ]
  },
  {
   "cell_type": "code",
   "execution_count": 50,
   "id": "35c1c220",
   "metadata": {},
   "outputs": [
    {
     "data": {
      "text/html": [
       "<div>\n",
       "<style scoped>\n",
       "    .dataframe tbody tr th:only-of-type {\n",
       "        vertical-align: middle;\n",
       "    }\n",
       "\n",
       "    .dataframe tbody tr th {\n",
       "        vertical-align: top;\n",
       "    }\n",
       "\n",
       "    .dataframe thead th {\n",
       "        text-align: right;\n",
       "    }\n",
       "</style>\n",
       "<table border=\"1\" class=\"dataframe\">\n",
       "  <thead>\n",
       "    <tr style=\"text-align: right;\">\n",
       "      <th></th>\n",
       "      <th>attack</th>\n",
       "      <th>Model</th>\n",
       "      <th>epsilon</th>\n",
       "      <th>accuracy</th>\n",
       "      <th>precision</th>\n",
       "      <th>f1score</th>\n",
       "      <th>recall</th>\n",
       "    </tr>\n",
       "  </thead>\n",
       "  <tbody>\n",
       "    <tr>\n",
       "      <th>0</th>\n",
       "      <td>FSGM</td>\n",
       "      <td>LR</td>\n",
       "      <td>0.0</td>\n",
       "      <td>84.637681</td>\n",
       "      <td>83.524904</td>\n",
       "      <td>84.578080</td>\n",
       "      <td>85.658153</td>\n",
       "    </tr>\n",
       "    <tr>\n",
       "      <th>1</th>\n",
       "      <td>FSGM</td>\n",
       "      <td>LR</td>\n",
       "      <td>0.1</td>\n",
       "      <td>42.222222</td>\n",
       "      <td>42.764228</td>\n",
       "      <td>46.797153</td>\n",
       "      <td>51.669941</td>\n",
       "    </tr>\n",
       "    <tr>\n",
       "      <th>2</th>\n",
       "      <td>FSGM</td>\n",
       "      <td>LR</td>\n",
       "      <td>0.2</td>\n",
       "      <td>18.405797</td>\n",
       "      <td>19.191919</td>\n",
       "      <td>19.838633</td>\n",
       "      <td>20.530452</td>\n",
       "    </tr>\n",
       "    <tr>\n",
       "      <th>3</th>\n",
       "      <td>FSGM</td>\n",
       "      <td>LR</td>\n",
       "      <td>0.3</td>\n",
       "      <td>15.458937</td>\n",
       "      <td>14.396887</td>\n",
       "      <td>14.467253</td>\n",
       "      <td>14.538310</td>\n",
       "    </tr>\n",
       "    <tr>\n",
       "      <th>4</th>\n",
       "      <td>FSGM</td>\n",
       "      <td>LR</td>\n",
       "      <td>0.4</td>\n",
       "      <td>15.362319</td>\n",
       "      <td>14.230019</td>\n",
       "      <td>14.285714</td>\n",
       "      <td>14.341847</td>\n",
       "    </tr>\n",
       "  </tbody>\n",
       "</table>\n",
       "</div>"
      ],
      "text/plain": [
       "  attack Model  epsilon   accuracy  precision    f1score     recall\n",
       "0   FSGM    LR      0.0  84.637681  83.524904  84.578080  85.658153\n",
       "1   FSGM    LR      0.1  42.222222  42.764228  46.797153  51.669941\n",
       "2   FSGM    LR      0.2  18.405797  19.191919  19.838633  20.530452\n",
       "3   FSGM    LR      0.3  15.458937  14.396887  14.467253  14.538310\n",
       "4   FSGM    LR      0.4  15.362319  14.230019  14.285714  14.341847"
      ]
     },
     "execution_count": 50,
     "metadata": {},
     "output_type": "execute_result"
    }
   ],
   "source": [
    "fgsm_res.head()"
   ]
  },
  {
   "cell_type": "code",
   "execution_count": 51,
   "id": "511df3ab",
   "metadata": {},
   "outputs": [
    {
     "data": {
      "text/html": [
       "<div>\n",
       "<style scoped>\n",
       "    .dataframe tbody tr th:only-of-type {\n",
       "        vertical-align: middle;\n",
       "    }\n",
       "\n",
       "    .dataframe tbody tr th {\n",
       "        vertical-align: top;\n",
       "    }\n",
       "\n",
       "    .dataframe thead th {\n",
       "        text-align: right;\n",
       "    }\n",
       "</style>\n",
       "<table border=\"1\" class=\"dataframe\">\n",
       "  <thead>\n",
       "    <tr style=\"text-align: right;\">\n",
       "      <th></th>\n",
       "      <th>attack</th>\n",
       "      <th>Model</th>\n",
       "      <th>epsilon</th>\n",
       "      <th>accuracy</th>\n",
       "      <th>precision</th>\n",
       "      <th>f1score</th>\n",
       "      <th>recall</th>\n",
       "    </tr>\n",
       "  </thead>\n",
       "  <tbody>\n",
       "    <tr>\n",
       "      <th>0</th>\n",
       "      <td>deepfool</td>\n",
       "      <td>LR</td>\n",
       "      <td>0.000000</td>\n",
       "      <td>15.314010</td>\n",
       "      <td>14.216164</td>\n",
       "      <td>14.278729</td>\n",
       "      <td>14.341847</td>\n",
       "    </tr>\n",
       "    <tr>\n",
       "      <th>1</th>\n",
       "      <td>deepfool</td>\n",
       "      <td>LR</td>\n",
       "      <td>0.000001</td>\n",
       "      <td>15.362319</td>\n",
       "      <td>14.230019</td>\n",
       "      <td>14.285714</td>\n",
       "      <td>14.341847</td>\n",
       "    </tr>\n",
       "    <tr>\n",
       "      <th>2</th>\n",
       "      <td>deepfool</td>\n",
       "      <td>LR</td>\n",
       "      <td>0.000002</td>\n",
       "      <td>15.362319</td>\n",
       "      <td>14.230019</td>\n",
       "      <td>14.285714</td>\n",
       "      <td>14.341847</td>\n",
       "    </tr>\n",
       "    <tr>\n",
       "      <th>3</th>\n",
       "      <td>deepfool</td>\n",
       "      <td>LR</td>\n",
       "      <td>0.000003</td>\n",
       "      <td>15.362319</td>\n",
       "      <td>14.230019</td>\n",
       "      <td>14.285714</td>\n",
       "      <td>14.341847</td>\n",
       "    </tr>\n",
       "    <tr>\n",
       "      <th>4</th>\n",
       "      <td>deepfool</td>\n",
       "      <td>LR</td>\n",
       "      <td>0.000004</td>\n",
       "      <td>15.362319</td>\n",
       "      <td>14.230019</td>\n",
       "      <td>14.285714</td>\n",
       "      <td>14.341847</td>\n",
       "    </tr>\n",
       "  </tbody>\n",
       "</table>\n",
       "</div>"
      ],
      "text/plain": [
       "     attack Model   epsilon   accuracy  precision    f1score     recall\n",
       "0  deepfool    LR  0.000000  15.314010  14.216164  14.278729  14.341847\n",
       "1  deepfool    LR  0.000001  15.362319  14.230019  14.285714  14.341847\n",
       "2  deepfool    LR  0.000002  15.362319  14.230019  14.285714  14.341847\n",
       "3  deepfool    LR  0.000003  15.362319  14.230019  14.285714  14.341847\n",
       "4  deepfool    LR  0.000004  15.362319  14.230019  14.285714  14.341847"
      ]
     },
     "execution_count": 51,
     "metadata": {},
     "output_type": "execute_result"
    }
   ],
   "source": [
    "deepfool_res.head()"
   ]
  },
  {
   "cell_type": "code",
   "execution_count": 52,
   "id": "b339697a",
   "metadata": {},
   "outputs": [
    {
     "data": {
      "text/html": [
       "<div>\n",
       "<style scoped>\n",
       "    .dataframe tbody tr th:only-of-type {\n",
       "        vertical-align: middle;\n",
       "    }\n",
       "\n",
       "    .dataframe tbody tr th {\n",
       "        vertical-align: top;\n",
       "    }\n",
       "\n",
       "    .dataframe thead th {\n",
       "        text-align: right;\n",
       "    }\n",
       "</style>\n",
       "<table border=\"1\" class=\"dataframe\">\n",
       "  <thead>\n",
       "    <tr style=\"text-align: right;\">\n",
       "      <th></th>\n",
       "      <th>attack</th>\n",
       "      <th>Model</th>\n",
       "      <th>theta</th>\n",
       "      <th>accuracy</th>\n",
       "      <th>precision</th>\n",
       "      <th>f1score</th>\n",
       "      <th>recall</th>\n",
       "    </tr>\n",
       "  </thead>\n",
       "  <tbody>\n",
       "    <tr>\n",
       "      <th>0</th>\n",
       "      <td>JSMA</td>\n",
       "      <td>LR</td>\n",
       "      <td>0.1</td>\n",
       "      <td>84.637681</td>\n",
       "      <td>86.610879</td>\n",
       "      <td>83.890578</td>\n",
       "      <td>81.335953</td>\n",
       "    </tr>\n",
       "    <tr>\n",
       "      <th>1</th>\n",
       "      <td>JSMA</td>\n",
       "      <td>LR</td>\n",
       "      <td>0.2</td>\n",
       "      <td>82.318841</td>\n",
       "      <td>86.222222</td>\n",
       "      <td>80.917623</td>\n",
       "      <td>76.227898</td>\n",
       "    </tr>\n",
       "    <tr>\n",
       "      <th>2</th>\n",
       "      <td>JSMA</td>\n",
       "      <td>LR</td>\n",
       "      <td>0.3</td>\n",
       "      <td>75.314010</td>\n",
       "      <td>80.286738</td>\n",
       "      <td>72.452830</td>\n",
       "      <td>66.011788</td>\n",
       "    </tr>\n",
       "    <tr>\n",
       "      <th>3</th>\n",
       "      <td>JSMA</td>\n",
       "      <td>LR</td>\n",
       "      <td>0.4</td>\n",
       "      <td>71.062802</td>\n",
       "      <td>74.560375</td>\n",
       "      <td>67.985035</td>\n",
       "      <td>62.475442</td>\n",
       "    </tr>\n",
       "    <tr>\n",
       "      <th>4</th>\n",
       "      <td>JSMA</td>\n",
       "      <td>LR</td>\n",
       "      <td>0.5</td>\n",
       "      <td>68.599034</td>\n",
       "      <td>70.353982</td>\n",
       "      <td>66.181061</td>\n",
       "      <td>62.475442</td>\n",
       "    </tr>\n",
       "  </tbody>\n",
       "</table>\n",
       "</div>"
      ],
      "text/plain": [
       "  attack Model  theta   accuracy  precision    f1score     recall\n",
       "0   JSMA    LR    0.1  84.637681  86.610879  83.890578  81.335953\n",
       "1   JSMA    LR    0.2  82.318841  86.222222  80.917623  76.227898\n",
       "2   JSMA    LR    0.3  75.314010  80.286738  72.452830  66.011788\n",
       "3   JSMA    LR    0.4  71.062802  74.560375  67.985035  62.475442\n",
       "4   JSMA    LR    0.5  68.599034  70.353982  66.181061  62.475442"
      ]
     },
     "execution_count": 52,
     "metadata": {},
     "output_type": "execute_result"
    }
   ],
   "source": [
    "jsma_res.head()"
   ]
  },
  {
   "cell_type": "code",
   "execution_count": null,
   "id": "e10a216c",
   "metadata": {},
   "outputs": [],
   "source": []
  },
  {
   "cell_type": "code",
   "execution_count": 53,
   "id": "479599ee",
   "metadata": {},
   "outputs": [
    {
     "data": {
      "image/png": "[encoded data removed]",
      "text/plain": [
       "<Figure size 576x432 with 1 Axes>"
      ]
     },
     "metadata": {},
     "output_type": "display_data"
    },
    {
     "data": {
      "image/png": "[encoded data removed]",
      "text/plain": [
       "<Figure size 576x432 with 1 Axes>"
      ]
     },
     "metadata": {},
     "output_type": "display_data"
    },
    {
     "data": {
      "image/png": "[encoded data removed]",
      "text/plain": [
       "<Figure size 576x432 with 1 Axes>"
      ]
     },
     "metadata": {},
     "output_type": "display_data"
    },
    {
     "data": {
      "image/png": "[encoded data removed]",
      "text/plain": [
       "<Figure size 576x432 with 1 Axes>"
      ]
     },
     "metadata": {},
     "output_type": "display_data"
    }
   ],
   "source": [
    "metric=['accuracy','precision','f1score', 'recall']\n",
    "for i in metric:\n",
    "    plt.figure(figsize = (8, 6))\n",
    "    sns.color_palette(\"Spectral\", as_cmap=True)\n",
    "    sns.axes_style(\"whitegrid\")\n",
    "    sns.lineplot(data = fgsm_res,\n",
    "               x = 'epsilon', \n",
    "               y = i, \n",
    "               hue = 'Model', \n",
    "               palette = \"rocket\",\n",
    "                linewidth = 3)\n",
    "    plt.title(\"FGSM Perturbation rates (epsilon) vs \" + i)"
   ]
  },
  {
   "cell_type": "code",
   "execution_count": null,
   "id": "8e205aff",
   "metadata": {},
   "outputs": [],
   "source": []
  },
  {
   "cell_type": "code",
   "execution_count": 54,
   "id": "9054a334",
   "metadata": {},
   "outputs": [
    {
     "data": {
      "image/png": "[encoded data removed]",
      "text/plain": [
       "<Figure size 576x432 with 1 Axes>"
      ]
     },
     "metadata": {},
     "output_type": "display_data"
    },
    {
     "data": {
      "image/png": "[encoded data removed]",
      "text/plain": [
       "<Figure size 576x432 with 1 Axes>"
      ]
     },
     "metadata": {},
     "output_type": "display_data"
    },
    {
     "data": {
      "image/png": "[encoded data removed]",
      "text/plain": [
       "<Figure size 576x432 with 1 Axes>"
      ]
     },
     "metadata": {},
     "output_type": "display_data"
    },
    {
     "data": {
      "image/png": "[encoded data removed]",
      "text/plain": [
       "<Figure size 576x432 with 1 Axes>"
      ]
     },
     "metadata": {},
     "output_type": "display_data"
    }
   ],
   "source": [
    "metric=['accuracy','precision','f1score', 'recall']\n",
    "for i in metric:\n",
    "    plt.figure(figsize = (8, 6))\n",
    "    sns.color_palette(\"Spectral\", as_cmap=True)\n",
    "    sns.lineplot(data = jsma_res,\n",
    "               x = 'theta', \n",
    "               y = i, \n",
    "               hue = 'Model', \n",
    "               palette = \"rocket\",\n",
    "                linewidth = 3)\n",
    "    plt.title(\"JSMA Perturbation rates (theta) vs \" + i)"
   ]
  },
  {
   "cell_type": "code",
   "execution_count": 55,
   "id": "fbfd4e43",
   "metadata": {},
   "outputs": [
    {
     "data": {
      "image/png": "[encoded data removed]",
      "text/plain": [
       "<Figure size 576x432 with 1 Axes>"
      ]
     },
     "metadata": {},
     "output_type": "display_data"
    },
    {
     "data": {
      "image/png": "[encoded data removed]",
      "text/plain": [
       "<Figure size 576x432 with 1 Axes>"
      ]
     },
     "metadata": {},
     "output_type": "display_data"
    },
    {
     "data": {
      "image/png": "[encoded data removed]",
      "text/plain": [
       "<Figure size 576x432 with 1 Axes>"
      ]
     },
     "metadata": {},
     "output_type": "display_data"
    },
    {
     "data": {
      "image/png": "[encoded data removed]",
      "text/plain": [
       "<Figure size 576x432 with 1 Axes>"
      ]
     },
     "metadata": {},
     "output_type": "display_data"
    }
   ],
   "source": [
    "metric=['accuracy','precision','f1score', 'recall']\n",
    "for i in metric:\n",
    "    plt.figure(figsize = (8, 6))\n",
    "    sns.color_palette(\"Spectral\", as_cmap=True)\n",
    "    sns.lineplot(data = deepfool_res,\n",
    "               x = 'epsilon', \n",
    "               y = i, \n",
    "               hue = 'Model', \n",
    "               palette = \"rocket\",\n",
    "                linewidth = 3)\n",
    "    plt.title(\"Deep Fool Overshoot (epsilon) vs \" + i)"
   ]
  },
  {
   "cell_type": "code",
   "execution_count": 56,
   "id": "e0d1cb29",
   "metadata": {},
   "outputs": [],
   "source": [
    "#save as data\n",
    "deepfool_res.to_csv('deepfool_results', index=False)\n",
    "fgsm_res.to_csv('fgsm_results', index=False)\n",
    "jsma_res.to_csv('jsma_results', index=False)"
   ]
  },
  {
   "cell_type": "code",
   "execution_count": null,
   "id": "81095bb2",
   "metadata": {},
   "outputs": [],
   "source": []
  }
 ],
 "metadata": {
  "kernelspec": {
   "display_name": "Python 3",
   "language": "python",
   "name": "python3"
  },
  "language_info": {
   "codemirror_mode": {
    "name": "ipython",
    "version": 3
   },
   "file_extension": ".py",
   "mimetype": "text/x-python",
   "name": "python",
   "nbconvert_exporter": "python",
   "pygments_lexer": "ipython3",
   "version": "3.8.10"
  }
 },
 "nbformat": 4,
 "nbformat_minor": 5
}
